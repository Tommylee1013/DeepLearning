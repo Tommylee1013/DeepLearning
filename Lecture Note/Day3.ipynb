{
 "cells": [
  {
   "cell_type": "markdown",
   "metadata": {},
   "source": [
    "## Look Inside CNN"
   ]
  },
  {
   "cell_type": "markdown",
   "metadata": {},
   "source": [
    "### MNIST"
   ]
  },
  {
   "cell_type": "code",
   "execution_count": 2,
   "metadata": {},
   "outputs": [],
   "source": [
    "import numpy as np\n",
    "import torch\n",
    "import torch.nn as nn # Conv2d, BatchNorm2d\n",
    "import torch.nn.functional as F # F.softmax\n",
    "import torchvision # To download dataset\n",
    "import torchvision.transforms as transforms #data preprocessing, (to tensor, rotate)\n",
    "# data preprocessing에서 transform : 데이터 증강을 위해서이다. skew, rotate등의 기법을 활용하여 과적합 완화\n",
    "\n",
    "\n",
    "import matplotlib\n",
    "import matplotlib.pyplot as plt\n",
    "\n",
    "from matplotlib.pyplot import imshow"
   ]
  },
  {
   "cell_type": "markdown",
   "metadata": {},
   "source": [
    "### 1. Define Hyper-parameters and pre-set device on cuda"
   ]
  },
  {
   "cell_type": "code",
   "execution_count": 3,
   "metadata": {},
   "outputs": [
    {
     "name": "stdout",
     "output_type": "stream",
     "text": [
      "PyTorch version:1.13.0\n",
      "MPS 장치를 지원하도록 build 되었는지: True\n",
      "MPS 장치가 사용 가능한지: True\n",
      "macOS-10.16-x86_64-i386-64bit\n"
     ]
    }
   ],
   "source": [
    "print (f\"PyTorch version:{torch.__version__}\") # 1.12.1 이상\n",
    "print(f\"MPS 장치를 지원하도록 build 되었는지: {torch.backends.mps.is_built()}\") # True 여야 합니다.\n",
    "print(f\"MPS 장치가 사용 가능한지: {torch.backends.mps.is_available()}\") # True 여야 합니다.\n",
    "!python -c 'import platform;print(platform.platform())'"
   ]
  },
  {
   "cell_type": "code",
   "execution_count": 4,
   "metadata": {},
   "outputs": [
    {
     "name": "stdout",
     "output_type": "stream",
     "text": [
      "device: mps:0\n"
     ]
    }
   ],
   "source": [
    "# Device Configuration\n",
    "device = torch.device('mps:0' if torch.backends.mps.is_available() else 'cpu')\n",
    "# 나중에 학습 전에 데이터를 gpu에 넣고 학습하기 위함 -> 모델과 데이터가 같은 device에 있어야 한다\n",
    "# images.to(device)를 사용해서 학습하게 된다 (추후에)\n",
    "# model.to(device) 모델과 데이터가 같은 저장공간에 있는지 주의해야 한다.\n",
    "# cuda : Nvidia GPU에서만 사용가능하다\n",
    "print(f\"device: {device}\")\n",
    "# Adjust Dataset classes and channels\n",
    "num_classes = 10\n",
    "in_channel = 1 # RGB라면 3이 될 것이고, 흑백이라면 1이 될 것이다.\n",
    "\n",
    "# Hyper-parameters \n",
    "batch_size = 50 # 성능이 좋지 않은 컴퓨터면 16이상으로는 돌리기 힘들다\n",
    "max_pool_kernel = 2\n",
    "learning_rate = 0.0001 #0.01 ~ 0.0001\n",
    "num_epochs = 5 #Overfitting 나오는 것에 주의한다 + Overfitting이 발생할 때 어떻게 다룰 것인가?"
   ]
  },
  {
   "cell_type": "markdown",
   "metadata": {},
   "source": [
    "2차 과제에서 Hyperparameter의 중요성이 커질 것이니 주의한다."
   ]
  },
  {
   "cell_type": "markdown",
   "metadata": {},
   "source": [
    "### 2. Load Data"
   ]
  },
  {
   "cell_type": "code",
   "execution_count": 5,
   "metadata": {},
   "outputs": [],
   "source": [
    "import torch\n",
    "train_data = torchvision.datasets.MNIST(root='./datasets', #directory 입력, 이미지가 들어있는 folder\n",
    "                                        train=True,\n",
    "                                        transform=transforms.ToTensor(),\n",
    "                                        download=True)\n",
    "\n",
    "test_data = torchvision.datasets.MNIST(root='./datasets',\n",
    "                                       train=False,\n",
    "                                       transform=transforms.ToTensor(),\n",
    "                                       download=True)"
   ]
  },
  {
   "cell_type": "markdown",
   "metadata": {},
   "source": [
    "### 3. Define Dataloader"
   ]
  },
  {
   "cell_type": "code",
   "execution_count": 6,
   "metadata": {},
   "outputs": [
    {
     "data": {
      "text/plain": [
       "(60000, 10000)"
      ]
     },
     "execution_count": 6,
     "metadata": {},
     "output_type": "execute_result"
    }
   ],
   "source": [
    "len(train_data), len(test_data)"
   ]
  },
  {
   "cell_type": "code",
   "execution_count": 7,
   "metadata": {},
   "outputs": [],
   "source": [
    "train_loader = torch.utils.data.DataLoader(dataset=train_data,\n",
    "                                          batch_size=batch_size,\n",
    "                                          shuffle=True)\n",
    "test_loader = torch.utils.data.DataLoader(dataset=test_data,\n",
    "                                          batch_size=batch_size,\n",
    "                                          shuffle=False)             # torch 의 data loader를 그대로 불러와 사용"
   ]
  },
  {
   "cell_type": "markdown",
   "metadata": {},
   "source": [
    "### 4. Define Model"
   ]
  },
  {
   "cell_type": "code",
   "execution_count": 8,
   "metadata": {},
   "outputs": [],
   "source": [
    "class ConvNetStep(nn.Module):\n",
    "    def __init__(self, num_classes = 10):\n",
    "        super(ConvNetStep, self).__init__()\n",
    "        self.layer1 = nn.Sequential(\n",
    "            nn.Conv2d(in_channels = in_channel, \n",
    "                      out_channels = 16, \n",
    "                      kernel_size = 5, stride = 1, padding = 2),\n",
    "            #nn.Conv2d(1, 16, 5, padding = 2)와 같은 내용의 코드이다.\n",
    "            nn.BatchNorm2d(num_features=16),\n",
    "            #하나의 Batch마다 Normalization을 진행한다.\n",
    "            nn.ReLU(),\n",
    "            nn.MaxPool2d(kernel_size=max_pool_kernel)\n",
    "        ) #결과적으로 사이즈가 절반으로 줄어든다\n",
    "        self.layer2 = nn.Sequential(\n",
    "            nn.Conv2d(in_channels = 16, out_channels = 32, \n",
    "                      kernel_size = 5, stride = 1, padding = 2),\n",
    "            nn.BatchNorm2d(num_features = 32), #BatchNorm은 out_channels와 같아야 한다\n",
    "            nn.ReLU(),\n",
    "            nn.MaxPool2d(kernel_size = max_pool_kernel)\n",
    "        ) # Layer는 총 두개 사용한다 \n",
    "        # fc1 직전의 data shape : 32 * 7 * 7, 오류가 뜰 경우 직전 layer의 output channel 사이즈를 조정해도 된다\n",
    "        self.fc1 = nn.Linear(in_features = 32*7*7, out_features = 120)\n",
    "        self.fc2 = nn.Linear(in_features = 120, out_features = num_classes) #num_classes = 10\n",
    "\n",
    "    def forward1(self, x):\n",
    "        x = self.layer1(x)\n",
    "        return x\n",
    "  \n",
    "    def forward2(self, x):\n",
    "        x = self.layer2(x)\n",
    "        return x\n",
    "\n",
    "    def forward3(self, x):\n",
    "        x = x.reshape(x.size(0),-1) # Vectorization\n",
    "        return self.fc1(x)\n",
    "\n",
    "    def forward4(self, x):\n",
    "        return self.fc2(x)\n",
    "\n",
    "    def forward(self, x):    # 실제 학습 시에는 이 함수만 사용\n",
    "        x = self.layer1(x) # 1*28*28 -> 16*14*14\n",
    "        x = self.layer2(x) # 16*14*14 -> 32*7*7 (3D tensor)\n",
    "\n",
    "        x = F.relu(x)\n",
    "        x = x.reshape(x.size(0),-1) # Batchsize*(x.size)32*7*7 -> 1568 (vectorization)\n",
    "        x = F.relu(self.fc1(x)) # 1568 -> 120\n",
    "        x = self.fc2(x) # 120 -> 10\n",
    "        return x\n",
    "\n",
    "model = ConvNetStep()"
   ]
  },
  {
   "cell_type": "markdown",
   "metadata": {},
   "source": [
    "### 4.1 Inside CNN\n",
    "\n",
    "#### 4.1.1 Row Image (MNIST)"
   ]
  },
  {
   "cell_type": "code",
   "execution_count": 9,
   "metadata": {},
   "outputs": [],
   "source": [
    "%matplotlib inline\n",
    "def image_show(tensor_image):\n",
    "    image = tensor_image.reshape(tensor_image.size()[1], tensor_image.size()[2])    # width x height\n",
    "    imshow(image, cmap='gray')\n",
    "\n",
    "images, labels = next(iter(train_loader))\n",
    "image1, label1 = images[0], labels[0]\n",
    "image2, label2 = images[1], labels[1]"
   ]
  },
  {
   "cell_type": "code",
   "execution_count": 10,
   "metadata": {},
   "outputs": [
    {
     "data": {
      "text/plain": [
       "Text(0.5, 1.0, 'tensor(1)')"
      ]
     },
     "execution_count": 10,
     "metadata": {},
     "output_type": "execute_result"
    },
    {
     "data": {
      "image/png": "[encoded data removed]",
      "text/plain": [
       "<Figure size 640x480 with 1 Axes>"
      ]
     },
     "metadata": {},
     "output_type": "display_data"
    }
   ],
   "source": [
    "image_show(image1)\n",
    "plt.title(label1)"
   ]
  },
  {
   "cell_type": "code",
   "execution_count": 11,
   "metadata": {},
   "outputs": [
    {
     "data": {
      "text/plain": [
       "Text(0.5, 1.0, 'tensor(1)')"
      ]
     },
     "execution_count": 11,
     "metadata": {},
     "output_type": "execute_result"
    },
    {
     "data": {
      "image/png": "[encoded data removed]",
      "text/plain": [
       "<Figure size 640x480 with 1 Axes>"
      ]
     },
     "metadata": {},
     "output_type": "display_data"
    }
   ],
   "source": [
    "image_show(image2)\n",
    "plt.title(label2)"
   ]
  },
  {
   "cell_type": "markdown",
   "metadata": {},
   "source": [
    "#### 4.1.2 After first convolution layer"
   ]
  },
  {
   "cell_type": "code",
   "execution_count": 12,
   "metadata": {},
   "outputs": [
    {
     "name": "stdout",
     "output_type": "stream",
     "text": [
      "torch.Size([50, 1, 28, 28]) --> torch.Size([50, 16, 14, 14])\n"
     ]
    }
   ],
   "source": [
    "model.eval()\n",
    "output1 = model.forward1(images)\n",
    "print(f\"{images.size()} --> {output1.size()}\")"
   ]
  },
  {
   "cell_type": "code",
   "execution_count": 13,
   "metadata": {},
   "outputs": [
    {
     "name": "stdout",
     "output_type": "stream",
     "text": [
      "torch.Size([16, 14, 14]) torch.Size([16, 14, 14])\n"
     ]
    }
   ],
   "source": [
    "image1, image2 = output1[0], output1[1]\n",
    "print(image1.size(), image2.size())"
   ]
  },
  {
   "cell_type": "code",
   "execution_count": 14,
   "metadata": {},
   "outputs": [
    {
     "data": {
      "image/png": "[encoded data removed]",
      "text/plain": [
       "<Figure size 3000x3000 with 16 Axes>"
      ]
     },
     "metadata": {},
     "output_type": "display_data"
    }
   ],
   "source": [
    "fig = plt.figure(figsize=(30,30))\n",
    "\n",
    "for i in range(len(image1)):\n",
    "    plt.subplot(1,len(image1),i+1)\n",
    "    plt.imshow(image1[i].detach().numpy(), cmap='gray')"
   ]
  },
  {
   "cell_type": "code",
   "execution_count": 15,
   "metadata": {},
   "outputs": [
    {
     "data": {
      "image/png": "[encoded data removed]",
      "text/plain": [
       "<Figure size 3000x3000 with 16 Axes>"
      ]
     },
     "metadata": {},
     "output_type": "display_data"
    }
   ],
   "source": [
    "fig = plt.figure(figsize=(30,30))\n",
    "\n",
    "for i in range(len(image2)):\n",
    "    plt.subplot(1,len(image2),i+1)\n",
    "    plt.imshow(image2[i].detach().numpy(), cmap='gray')"
   ]
  },
  {
   "cell_type": "markdown",
   "metadata": {},
   "source": [
    "#### 4.1.3 After second convolution layer"
   ]
  },
  {
   "cell_type": "code",
   "execution_count": 16,
   "metadata": {},
   "outputs": [
    {
     "name": "stdout",
     "output_type": "stream",
     "text": [
      "torch.Size([50, 16, 14, 14]) --> torch.Size([50, 32, 7, 7])\n"
     ]
    }
   ],
   "source": [
    "output2 = model.forward2(output1)\n",
    "print(f\"{output1.size()} --> {output2.size()}\")"
   ]
  },
  {
   "cell_type": "code",
   "execution_count": 17,
   "metadata": {},
   "outputs": [],
   "source": [
    "image1, image2 = output2[0], output2[1]"
   ]
  },
  {
   "cell_type": "code",
   "execution_count": 18,
   "metadata": {},
   "outputs": [
    {
     "data": {
      "image/png": "[encoded data removed]",
      "text/plain": [
       "<Figure size 3000x3000 with 32 Axes>"
      ]
     },
     "metadata": {},
     "output_type": "display_data"
    }
   ],
   "source": [
    "fig = plt.figure(figsize=(30,30))\n",
    "\n",
    "for i in range(len(image1)):\n",
    "    plt.subplot(1,len(image1),i+1)\n",
    "    plt.imshow(image1[i].detach().numpy(), cmap='gray')"
   ]
  },
  {
   "cell_type": "code",
   "execution_count": 19,
   "metadata": {},
   "outputs": [
    {
     "data": {
      "image/png": "[encoded data removed]",
      "text/plain": [
       "<Figure size 3000x3000 with 32 Axes>"
      ]
     },
     "metadata": {},
     "output_type": "display_data"
    }
   ],
   "source": [
    "fig = plt.figure(figsize=(30,30))\n",
    "\n",
    "for i in range(len(image2)):\n",
    "    plt.subplot(1,len(image2),i+1)\n",
    "    plt.imshow(image2[i].detach().numpy(), cmap='gray')"
   ]
  },
  {
   "cell_type": "markdown",
   "metadata": {},
   "source": [
    "Layer 2번을 돌려도 어느정도 특성이 잔존해 있다"
   ]
  },
  {
   "cell_type": "markdown",
   "metadata": {},
   "source": [
    "#### 4.1.4 After third Fully Connected Layer"
   ]
  },
  {
   "cell_type": "code",
   "execution_count": null,
   "metadata": {},
   "outputs": [],
   "source": [
    "output3 = model.forward3(output2)\n",
    "print(f\"{output2.size()} --> {output3.size()}\")"
   ]
  },
  {
   "cell_type": "code",
   "execution_count": null,
   "metadata": {},
   "outputs": [],
   "source": [
    "image1, image2 = output3[0], output3[1]\n",
    "\n",
    "print(image1.size(), image2.size())"
   ]
  },
  {
   "cell_type": "markdown",
   "metadata": {},
   "source": [
    "\n",
    "> error : image1가 더 이상 2차원 tensor가 아님. (이미지로 show 불가)\n",
    "\n",
    "plt.imshow(image1[0].detach().numpy())"
   ]
  },
  {
   "cell_type": "code",
   "execution_count": null,
   "metadata": {},
   "outputs": [],
   "source": [
    "print(image1) # 단일 1D Tensor로 변환되어 있다"
   ]
  },
  {
   "cell_type": "markdown",
   "metadata": {},
   "source": [
    "120개의 element가 출력된다"
   ]
  },
  {
   "cell_type": "markdown",
   "metadata": {},
   "source": [
    "#### 4.1.5 After forth Fully Connected Layer"
   ]
  },
  {
   "cell_type": "code",
   "execution_count": null,
   "metadata": {},
   "outputs": [],
   "source": [
    "output4 = model.forward4(output3)\n",
    "print(f\"{output3.size()} --> {output4.size()}\")"
   ]
  },
  {
   "cell_type": "code",
   "execution_count": null,
   "metadata": {},
   "outputs": [],
   "source": [
    "image1, image2 = output4[0], output4[1]\n",
    "print(image1.size())\n",
    "print(image2.size())"
   ]
  },
  {
   "cell_type": "code",
   "execution_count": null,
   "metadata": {},
   "outputs": [],
   "source": [
    "print(\"image1\")\n",
    "print(\"the final tensor :\", image1)\n",
    "print(\"the result prediction:\", image1.tolist().index(image1.max()))\n",
    "print(\"the original label:\", label1)"
   ]
  },
  {
   "cell_type": "code",
   "execution_count": null,
   "metadata": {},
   "outputs": [],
   "source": [
    "print(\"image2\")\n",
    "print(\"the final tensor:\", image2)\n",
    "print(\"the result prediction:\", image2.tolist().index(image2.max()))\n",
    "print(\"the original label:\", label2)"
   ]
  },
  {
   "cell_type": "markdown",
   "metadata": {},
   "source": [
    "최종적으로 10개의 element로 구성된 1D Tensor가 출력된다. 최종결과가 0 근처에 있는 이유는 바로 Normalization 때문이다."
   ]
  },
  {
   "cell_type": "markdown",
   "metadata": {},
   "source": [
    "### 5. Set Loss & Optimizer"
   ]
  },
  {
   "cell_type": "code",
   "execution_count": null,
   "metadata": {},
   "outputs": [],
   "source": [
    "model = ConvNetStep().to(device) # to device 주의\n",
    "criterion = nn.CrossEntropyLoss()\n",
    "optimizer = torch.optim.Adam(model.parameters(), lr = learning_rate) # 지정한 learning rate에 따라 학습을 시킨다"
   ]
  },
  {
   "cell_type": "markdown",
   "metadata": {},
   "source": [
    "### 6. Train"
   ]
  },
  {
   "cell_type": "code",
   "execution_count": null,
   "metadata": {},
   "outputs": [],
   "source": [
    "total_step = len(train_loader)\n",
    "total_loss = []\n",
    "model.train()\n",
    "for epoch in range(num_epochs):\n",
    "    epoch_loss = []\n",
    "    for i, (img, label) in enumerate(train_loader):\n",
    "        # Assign Tensors to Configures Devices (gpu)\n",
    "        img = img.to(device)\n",
    "        label = label.to(device)\n",
    "\n",
    "        # Forward propagation\n",
    "        outputs = model(img)\n",
    "\n",
    "        # Get Loss, Compute Gradient, Update Parameters\n",
    "        loss = criterion(outputs, label)\n",
    "        optimizer.zero_grad()\n",
    "        loss.backward()\n",
    "        optimizer.step()\n",
    "\n",
    "        epoch_loss.append(loss.detach().cpu().numpy()) \n",
    "        # loss는 gpu 상에 존재, detach().cpu()로 불러온 뒤, numpy()를 통해 ndarray로 바꾸어 주어야 한다 \n",
    "        # Print Loss\n",
    "        if i % 10000 == 0 or (i+1)==len(train_loader):\n",
    "            print('Epoch [{}/{}], Step [{}/{}], Loss: {:.4f}'.format(epoch+1, num_epochs, \n",
    "                                                                     i+1, len(train_loader), loss.item()))\n",
    "    total_loss.append(np.mean(epoch_loss))\n",
    "    print(f\"epoch{i} loss: {np.mean(epoch_loss)}\")"
   ]
  },
  {
   "cell_type": "markdown",
   "metadata": {},
   "source": [
    "Epoch이 끝날 때마다 loss가 계속 줄어든다"
   ]
  },
  {
   "cell_type": "code",
   "execution_count": null,
   "metadata": {},
   "outputs": [],
   "source": [
    "import seaborn as sns\n",
    "sns.set_style(\"dark\")\n",
    "plt.figure(figsize = (8,5))\n",
    "plt.plot(total_loss)\n",
    "plt.title(\"MNIST CNN loss example\", fontweight='bold', fontfamily='Serif')\n",
    "plt.show()"
   ]
  },
  {
   "cell_type": "markdown",
   "metadata": {},
   "source": [
    "### 7. Save Model and Load Model to test"
   ]
  },
  {
   "cell_type": "markdown",
   "metadata": {},
   "source": [
    "### 7.1 Save Model"
   ]
  },
  {
   "cell_type": "code",
   "execution_count": null,
   "metadata": {},
   "outputs": [],
   "source": [
    "torch.save(model.state_dict(),\"my_model.pth\")   # model의 weight 정보 만을 저장"
   ]
  },
  {
   "cell_type": "markdown",
   "metadata": {},
   "source": [
    "### 7.2 Load Model"
   ]
  },
  {
   "cell_type": "code",
   "execution_count": null,
   "metadata": {},
   "outputs": [],
   "source": [
    "test_model = ConvNetStep().to(device)\n",
    "\n",
    "test_model.load_state_dict(torch.load(\"my_model.pth\"))   # test_model이라는 모델 안에 앞서 학습한 weight 정보가 담기게 된다."
   ]
  },
  {
   "cell_type": "code",
   "execution_count": null,
   "metadata": {},
   "outputs": [],
   "source": [
    "test_model.eval()\n",
    "\n",
    "with torch.no_grad():\n",
    "    correct = 0\n",
    "  \n",
    "    for img, lab in test_loader :\n",
    "        img = img.to(device)\n",
    "        lab = lab.to(device)\n",
    "        out = test_model(img)\n",
    "        _, pred = torch.max(out.data, 1)\n",
    "        correct += (pred == lab).sum().item()\n",
    "\n",
    "    print(\"Accuracy of the network on the {} test images: {}%\".format(len(test_loader)*batch_size, \n",
    "                                                                      100 * correct / \n",
    "                                                                      (len(test_loader) * \n",
    "                                                                       batch_size)))"
   ]
  },
  {
   "cell_type": "markdown",
   "metadata": {},
   "source": [
    "저장하고 불러오기로 완전히 똑같은 가중치를 가지는 모델을 불러올 수 있다"
   ]
  }
 ],
 "metadata": {
  "kernelspec": {
   "display_name": "Python 3 (ipykernel)",
   "language": "python",
   "name": "python3"
  },
  "language_info": {
   "codemirror_mode": {
    "name": "ipython",
    "version": 3
   },
   "file_extension": ".py",
   "mimetype": "text/x-python",
   "name": "python",
   "nbconvert_exporter": "python",
   "pygments_lexer": "ipython3",
   "version": "3.9.13"
  },
  "toc": {
   "base_numbering": 1,
   "nav_menu": {},
   "number_sections": true,
   "sideBar": true,
   "skip_h1_title": false,
   "title_cell": "Table of Contents",
   "title_sidebar": "Contents",
   "toc_cell": false,
   "toc_position": {},
   "toc_section_display": true,
   "toc_window_display": false
  }
 },
 "nbformat": 4,
 "nbformat_minor": 4
}

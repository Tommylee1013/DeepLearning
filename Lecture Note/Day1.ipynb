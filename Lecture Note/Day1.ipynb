{
 "cells": [
  {
   "cell_type": "markdown",
   "metadata": {},
   "source": [
    "## 1. Pytorch"
   ]
  },
  {
   "cell_type": "markdown",
   "metadata": {},
   "source": [
    "-   Python List: 행렬 연산을 위해 for 문 사용\n",
    "-   Numpy : 차원이 다른 행렬 간에도 연산이 가능\n",
    "-   Tensor : GPU 상에서 연산이 가능하고 autograd(자동 미분)연산 기능이 있는 자료형"
   ]
  },
  {
   "cell_type": "code",
   "execution_count": 1,
   "metadata": {
    "ExecuteTime": {
     "end_time": "2023-09-02T10:06:41.014256Z",
     "start_time": "2023-09-02T10:06:40.083403Z"
    }
   },
   "outputs": [],
   "source": [
    "import numpy as np, torch"
   ]
  },
  {
   "cell_type": "markdown",
   "metadata": {},
   "source": [
    "### Tensor 생성 및 초기화"
   ]
  },
  {
   "cell_type": "code",
   "execution_count": 2,
   "metadata": {
    "ExecuteTime": {
     "end_time": "2023-09-02T10:06:41.051646Z",
     "start_time": "2023-09-02T10:06:41.015598Z"
    }
   },
   "outputs": [
    {
     "data": {
      "text/plain": "tensor([[0., 0., 0.],\n        [0., 0., 0.],\n        [0., 0., 0.],\n        [0., 0., 0.],\n        [0., 0., 0.]])"
     },
     "execution_count": 2,
     "metadata": {},
     "output_type": "execute_result"
    }
   ],
   "source": [
    "torch.empty(5,3) # 초기화되지 않은 행렬 생성"
   ]
  },
  {
   "cell_type": "code",
   "execution_count": 3,
   "metadata": {
    "ExecuteTime": {
     "end_time": "2023-09-02T10:06:41.059824Z",
     "start_time": "2023-09-02T10:06:41.035950Z"
    }
   },
   "outputs": [
    {
     "data": {
      "text/plain": "tensor([[0.3596, 0.1217, 0.8802],\n        [0.8703, 0.6422, 0.7985],\n        [0.6685, 0.2979, 0.1748],\n        [0.6171, 0.3591, 0.8376],\n        [0.9776, 0.5513, 0.6708]])"
     },
     "execution_count": 3,
     "metadata": {},
     "output_type": "execute_result"
    }
   ],
   "source": [
    "torch.rand(5,3) # 0 ~ 1 사이의 랜덤 초기화 행렬 생성"
   ]
  },
  {
   "cell_type": "code",
   "execution_count": 4,
   "metadata": {
    "ExecuteTime": {
     "end_time": "2023-09-02T10:06:41.060044Z",
     "start_time": "2023-09-02T10:06:41.046185Z"
    }
   },
   "outputs": [
    {
     "name": "stdout",
     "output_type": "stream",
     "text": [
      "tensor([[0.9918, 0.8426, 0.6875],\n",
      "        [0.5468, 0.1618, 0.6146],\n",
      "        [0.4839, 0.3312, 0.5717],\n",
      "        [0.9276, 0.7820, 0.7289],\n",
      "        [0.5530, 0.3153, 0.0339]])\n"
     ]
    }
   ],
   "source": [
    "x = torch.rand(5,3)\n",
    "print(x)"
   ]
  },
  {
   "cell_type": "code",
   "execution_count": 5,
   "metadata": {
    "ExecuteTime": {
     "end_time": "2023-09-02T10:06:41.060749Z",
     "start_time": "2023-09-02T10:06:41.048630Z"
    }
   },
   "outputs": [
    {
     "data": {
      "text/plain": "tensor(0.5715)"
     },
     "execution_count": 5,
     "metadata": {},
     "output_type": "execute_result"
    }
   ],
   "source": [
    "x.mean() # mean"
   ]
  },
  {
   "cell_type": "code",
   "execution_count": 6,
   "metadata": {
    "ExecuteTime": {
     "end_time": "2023-09-02T10:06:41.060851Z",
     "start_time": "2023-09-02T10:06:41.053073Z"
    }
   },
   "outputs": [
    {
     "data": {
      "text/plain": "tensor(0.2739)"
     },
     "execution_count": 6,
     "metadata": {},
     "output_type": "execute_result"
    }
   ],
   "source": [
    "x.std() # standard deviation"
   ]
  },
  {
   "cell_type": "code",
   "execution_count": 7,
   "metadata": {
    "ExecuteTime": {
     "end_time": "2023-09-02T10:06:41.060923Z",
     "start_time": "2023-09-02T10:06:41.055777Z"
    }
   },
   "outputs": [
    {
     "name": "stdout",
     "output_type": "stream",
     "text": [
      "tensor([[ 4.7897e-04, -1.5892e+00, -2.4995e-01],\n",
      "        [-6.9502e-01, -1.5240e+00,  7.9109e-01],\n",
      "        [ 1.7649e-01, -6.7418e-01, -8.7057e-01],\n",
      "        [-1.0247e-03, -3.7028e-01,  1.1097e+00],\n",
      "        [ 1.9448e-02, -6.9819e-01, -1.0335e+00]])\n"
     ]
    }
   ],
   "source": [
    "y = torch.randn(5,3) # normal distribution에서 랜덤 초기화 행렬 생성\n",
    "print(y)"
   ]
  },
  {
   "cell_type": "code",
   "execution_count": 8,
   "metadata": {
    "ExecuteTime": {
     "end_time": "2023-09-02T10:06:41.074961Z",
     "start_time": "2023-09-02T10:06:41.059259Z"
    }
   },
   "outputs": [
    {
     "data": {
      "text/plain": "tensor(-0.3739)"
     },
     "execution_count": 8,
     "metadata": {},
     "output_type": "execute_result"
    }
   ],
   "source": [
    "y.mean()"
   ]
  },
  {
   "cell_type": "code",
   "execution_count": 9,
   "metadata": {
    "ExecuteTime": {
     "end_time": "2023-09-02T10:06:41.076380Z",
     "start_time": "2023-09-02T10:06:41.061947Z"
    }
   },
   "outputs": [
    {
     "data": {
      "text/plain": "tensor(0.7602)"
     },
     "execution_count": 9,
     "metadata": {},
     "output_type": "execute_result"
    }
   ],
   "source": [
    "y.std()"
   ]
  },
  {
   "cell_type": "code",
   "execution_count": 10,
   "metadata": {
    "ExecuteTime": {
     "end_time": "2023-09-02T10:06:41.076523Z",
     "start_time": "2023-09-02T10:06:41.067866Z"
    }
   },
   "outputs": [],
   "source": [
    "x = torch.tensor([[1.2,4.5],[1,2]]) # 특정 값을 tensor로 만들기"
   ]
  },
  {
   "cell_type": "code",
   "execution_count": 11,
   "metadata": {
    "ExecuteTime": {
     "end_time": "2023-09-02T10:06:41.076635Z",
     "start_time": "2023-09-02T10:06:41.069244Z"
    }
   },
   "outputs": [
    {
     "data": {
      "text/plain": "tensor([[1.2000, 4.5000],\n        [1.0000, 2.0000]])"
     },
     "execution_count": 11,
     "metadata": {},
     "output_type": "execute_result"
    }
   ],
   "source": [
    "x"
   ]
  },
  {
   "cell_type": "markdown",
   "metadata": {},
   "source": [
    "### Tensor size & Numpy 변환"
   ]
  },
  {
   "cell_type": "code",
   "execution_count": 12,
   "metadata": {
    "ExecuteTime": {
     "end_time": "2023-09-02T10:06:41.130422Z",
     "start_time": "2023-09-02T10:06:41.072687Z"
    }
   },
   "outputs": [
    {
     "data": {
      "text/plain": "torch.Size([2, 2])"
     },
     "execution_count": 12,
     "metadata": {},
     "output_type": "execute_result"
    }
   ],
   "source": [
    "x.size() # 행렬의 size를 빠르게 확인 가능하다"
   ]
  },
  {
   "cell_type": "code",
   "execution_count": 13,
   "metadata": {
    "ExecuteTime": {
     "end_time": "2023-09-02T10:06:41.143378Z",
     "start_time": "2023-09-02T10:06:41.076085Z"
    }
   },
   "outputs": [
    {
     "name": "stdout",
     "output_type": "stream",
     "text": [
      "tensor([[0.3817, 0.8386, 0.0245, 0.9193],\n",
      "        [0.7061, 0.7995, 0.3346, 0.5173],\n",
      "        [0.7172, 0.0486, 0.3007, 0.4337]]) torch.Size([3, 4]) \n",
      " tensor([[0.3817, 0.8386, 0.0245],\n",
      "        [0.9193, 0.7061, 0.7995],\n",
      "        [0.3346, 0.5173, 0.7172],\n",
      "        [0.0486, 0.3007, 0.4337]]) <built-in method size of Tensor object at 0x156569ef0> \n",
      " tensor([[0.3817, 0.8386],\n",
      "        [0.0245, 0.9193],\n",
      "        [0.7061, 0.7995],\n",
      "        [0.3346, 0.5173],\n",
      "        [0.7172, 0.0486],\n",
      "        [0.3007, 0.4337]]) <built-in method size of Tensor object at 0x156569bd0>\n"
     ]
    }
   ],
   "source": [
    "x = torch.rand(3,4)\n",
    "y = x.reshape(4,3)\n",
    "z = x.reshape(-1,2) # -1개의 행이 아니라, 뒷 부분 숫자에 맞춰서 만들어 달라는 뜻이다.\n",
    "# 데이터의 모형이 정확하지 않고 모호할 때 사용하면 좋다\n",
    "print(x, x.size(), '\\n', y, y.size, '\\n', z, z.size)"
   ]
  },
  {
   "cell_type": "code",
   "execution_count": 14,
   "metadata": {
    "ExecuteTime": {
     "end_time": "2023-09-02T10:06:41.143758Z",
     "start_time": "2023-09-02T10:06:41.079062Z"
    }
   },
   "outputs": [
    {
     "name": "stdout",
     "output_type": "stream",
     "text": [
      "tensor([1., 1., 1., 1., 1.]) <class 'torch.Tensor'>\n",
      "[1. 1. 1. 1. 1.] <class 'numpy.ndarray'>\n"
     ]
    }
   ],
   "source": [
    "# Tensor to numpy\n",
    "x = torch.ones(5)\n",
    "y = x.numpy()\n",
    "print(x, type(x))\n",
    "print(y, type(y))"
   ]
  },
  {
   "cell_type": "code",
   "execution_count": 15,
   "metadata": {
    "ExecuteTime": {
     "end_time": "2023-09-02T10:06:41.143917Z",
     "start_time": "2023-09-02T10:06:41.083804Z"
    }
   },
   "outputs": [
    {
     "name": "stdout",
     "output_type": "stream",
     "text": [
      "[1. 1. 1. 1. 1.] <class 'numpy.ndarray'>\n",
      "tensor([1., 1., 1., 1., 1.], dtype=torch.float64) <class 'torch.Tensor'>\n"
     ]
    }
   ],
   "source": [
    "# Numpy to tensor\n",
    "x = np.ones(5)\n",
    "y = torch.from_numpy(x)\n",
    "print(x, type(x))\n",
    "print(y, type(y))"
   ]
  },
  {
   "cell_type": "markdown",
   "metadata": {},
   "source": [
    "### Tensor Autograd\n",
    "* requires_grad를 true로 세팅하면 tensor에 대한 모든 연산 추적 가능\n",
    "\n",
    "* 이를 통해 forward propagation 후, .backward() 호출 시 모든 gradient 자동으로 계산"
   ]
  },
  {
   "cell_type": "code",
   "execution_count": 16,
   "metadata": {
    "ExecuteTime": {
     "end_time": "2023-09-02T10:06:41.144260Z",
     "start_time": "2023-09-02T10:06:41.087282Z"
    }
   },
   "outputs": [
    {
     "name": "stdout",
     "output_type": "stream",
     "text": [
      "tensor([[1., 2.],\n",
      "        [3., 4.]], requires_grad=True)\n",
      "tensor([[ 27.,  48.],\n",
      "        [ 75., 108.]], grad_fn=<MulBackward0>)\n",
      "tensor(258., grad_fn=<SumBackward0>)\n",
      "tensor([[18., 24.],\n",
      "        [30., 36.]])\n"
     ]
    }
   ],
   "source": [
    "x = torch.tensor(([1.,2.], [3.,4.,]), requires_grad = True)\n",
    "print(x)\n",
    "y = 3 * (x+2) ** 2\n",
    "print(y)\n",
    "\n",
    "out = y.sum()\n",
    "print(out)\n",
    "\n",
    "out.backward()\n",
    "print(x.grad)"
   ]
  },
  {
   "cell_type": "markdown",
   "metadata": {},
   "source": [
    "## 2. Pytorch Project"
   ]
  },
  {
   "cell_type": "markdown",
   "metadata": {},
   "source": [
    "### Load Data"
   ]
  },
  {
   "cell_type": "code",
   "execution_count": 17,
   "metadata": {
    "ExecuteTime": {
     "end_time": "2023-09-02T10:06:41.215152Z",
     "start_time": "2023-09-02T10:06:41.109284Z"
    }
   },
   "outputs": [],
   "source": [
    "import torchvision\n",
    "import numpy as np, torch"
   ]
  },
  {
   "cell_type": "code",
   "execution_count": 18,
   "metadata": {
    "ExecuteTime": {
     "end_time": "2023-09-02T10:06:41.221786Z",
     "start_time": "2023-09-02T10:06:41.215450Z"
    }
   },
   "outputs": [],
   "source": [
    "import torchvision.transforms as transforms"
   ]
  },
  {
   "cell_type": "code",
   "execution_count": 19,
   "metadata": {
    "ExecuteTime": {
     "end_time": "2023-09-02T10:06:42.068419Z",
     "start_time": "2023-09-02T10:06:41.218015Z"
    }
   },
   "outputs": [
    {
     "name": "stdout",
     "output_type": "stream",
     "text": [
      "Files already downloaded and verified\n"
     ]
    }
   ],
   "source": [
    "train_data = torchvision.datasets.CIFAR10(root='./datasets',\n",
    "                                          train=True,\n",
    "                                          transform=transforms.ToTensor(),\n",
    "                                          download=True)"
   ]
  },
  {
   "cell_type": "code",
   "execution_count": 20,
   "metadata": {
    "ExecuteTime": {
     "end_time": "2023-09-02T10:06:42.076624Z",
     "start_time": "2023-09-02T10:06:42.069702Z"
    }
   },
   "outputs": [
    {
     "name": "stdout",
     "output_type": "stream",
     "text": [
      "50000 torch.Size([3, 32, 32]) 6\n"
     ]
    }
   ],
   "source": [
    "#data check\n",
    "image, label = train_data[0]\n",
    "print(len(train_data), image.size(), label)"
   ]
  },
  {
   "cell_type": "code",
   "execution_count": 21,
   "metadata": {
    "ExecuteTime": {
     "end_time": "2023-09-02T10:06:42.132401Z",
     "start_time": "2023-09-02T10:06:42.074284Z"
    }
   },
   "outputs": [
    {
     "data": {
      "text/plain": "<Figure size 640x480 with 1 Axes>",
      "image/png": "[encoded data removed]"
     },
     "metadata": {},
     "output_type": "display_data"
    }
   ],
   "source": [
    "import matplotlib\n",
    "import matplotlib.pyplot as plt\n",
    "\n",
    "plt.subplot(141)\n",
    "plt.imshow(image.permute(2,1,0))\n",
    "plt.title(label)\n",
    "plt.show()"
   ]
  },
  {
   "cell_type": "markdown",
   "metadata": {},
   "source": [
    "### Define Dataloader\n",
    "\n",
    "define dataloader (dataloader loads data from queue while iters loop)"
   ]
  },
  {
   "cell_type": "code",
   "execution_count": 22,
   "metadata": {
    "ExecuteTime": {
     "end_time": "2023-09-02T10:06:42.139399Z",
     "start_time": "2023-09-02T10:06:42.133344Z"
    }
   },
   "outputs": [],
   "source": [
    "data_loader = torch.utils.data.DataLoader(dataset=train_data,\n",
    "                                          batch_size=64, #배치 사이즈 지정가능\n",
    "                                          shuffle=True) # data set 순서를 바꿀 수 있다\n",
    "#train data에서는 셔플을 True, test data에 대해서는 셔플 False 해야한다"
   ]
  },
  {
   "cell_type": "code",
   "execution_count": 23,
   "metadata": {
    "ExecuteTime": {
     "end_time": "2023-09-02T10:06:42.164924Z",
     "start_time": "2023-09-02T10:06:42.136179Z"
    }
   },
   "outputs": [
    {
     "name": "stdout",
     "output_type": "stream",
     "text": [
      "782\n",
      "torch.Size([3, 32, 32]) 64 tensor([9, 7, 6, 2, 6, 4, 8, 5, 0, 5, 0, 1, 3, 3, 7, 4, 0, 0, 9, 5, 9, 2, 8, 7,\n",
      "        6, 2, 5, 8, 7, 6, 9, 8, 9, 6, 0, 9, 1, 7, 1, 6, 8, 6, 3, 5, 9, 1, 8, 9,\n",
      "        8, 5, 6, 3, 2, 4, 4, 8, 6, 0, 8, 8, 0, 0, 4, 2])\n",
      "torch.Size([3, 32, 32]) 64 tensor([9, 7, 7, 0, 6, 8, 1, 6, 3, 4, 5, 7, 1, 2, 2, 9, 3, 7, 6, 6, 4, 3, 9, 8,\n",
      "        4, 7, 3, 5, 1, 5, 8, 1, 4, 1, 0, 5, 4, 6, 8, 8, 3, 7, 9, 4, 0, 6, 8, 3,\n",
      "        3, 0, 8, 6, 4, 9, 2, 5, 6, 7, 2, 8, 8, 7, 4, 7])\n",
      "torch.Size([3, 32, 32]) 64 tensor([1, 1, 8, 8, 0, 3, 3, 2, 7, 1, 1, 1, 9, 7, 8, 1, 1, 8, 7, 7, 2, 1, 5, 1,\n",
      "        5, 2, 6, 7, 4, 6, 7, 2, 9, 8, 3, 4, 0, 0, 3, 3, 8, 5, 1, 2, 6, 7, 0, 4,\n",
      "        5, 7, 1, 6, 9, 9, 4, 8, 1, 8, 2, 2, 2, 3, 0, 3])\n"
     ]
    }
   ],
   "source": [
    "# check how data loader works\n",
    "print(len(data_loader))\n",
    "for idx, (images, labels) in enumerate(data_loader):\n",
    "    if idx ==3:\n",
    "        break\n",
    "\n",
    "    print(image.size(), len(images), labels)"
   ]
  },
  {
   "cell_type": "markdown",
   "metadata": {},
   "source": [
    "### Define Model"
   ]
  },
  {
   "cell_type": "code",
   "execution_count": 24,
   "metadata": {
    "ExecuteTime": {
     "end_time": "2023-09-02T10:06:42.165140Z",
     "start_time": "2023-09-02T10:06:42.155980Z"
    }
   },
   "outputs": [],
   "source": [
    "import torch.nn as nn\n",
    "import torch.nn.functional as F"
   ]
  },
  {
   "cell_type": "code",
   "execution_count": 25,
   "metadata": {
    "ExecuteTime": {
     "end_time": "2023-09-02T10:06:42.165389Z",
     "start_time": "2023-09-02T10:06:42.159328Z"
    }
   },
   "outputs": [],
   "source": [
    "class Net(nn.Module) :\n",
    "    def __init__(self) :\n",
    "        super(Net, self).__init__()\n",
    "        self.layer1 = nn.Sequential( # 시퀀스 : 밑에 있는 코드를 한번에 다 묶는 것\n",
    "            nn.Conv2d(3,6,5), # 3 = input ch, 6 = output ch, 5 = kernel size -> [6,28,28]\n",
    "            nn.BatchNorm2d(6),\n",
    "            nn.ReLU(),\n",
    "            nn.MaxPool2d(2,2) # -> [6,14,14]\n",
    "        )\n",
    "        self.fc = nn.Linear(6 * 14 * 14, 10) # 6 * 14 * 14가 왼쪽에 있는 0의 개수, 10이 오른쪽에 있는 0의 개수\n",
    "        \n",
    "    def forward(self, x) :\n",
    "        out = self.layer1(x)\n",
    "        out = out.reshape(out.size(0), -1)\n",
    "        out = self.fc(out)\n",
    "        \n",
    "        return out\n",
    "    \n",
    "model = Net() # instance"
   ]
  },
  {
   "cell_type": "code",
   "execution_count": 26,
   "metadata": {
    "ExecuteTime": {
     "end_time": "2023-09-02T10:06:42.166667Z",
     "start_time": "2023-09-02T10:06:42.163712Z"
    }
   },
   "outputs": [
    {
     "name": "stdout",
     "output_type": "stream",
     "text": [
      "Net(\n",
      "  (layer1): Sequential(\n",
      "    (0): Conv2d(3, 6, kernel_size=(5, 5), stride=(1, 1))\n",
      "    (1): BatchNorm2d(6, eps=1e-05, momentum=0.1, affine=True, track_running_stats=True)\n",
      "    (2): ReLU()\n",
      "    (3): MaxPool2d(kernel_size=2, stride=2, padding=0, dilation=1, ceil_mode=False)\n",
      "  )\n",
      "  (fc): Linear(in_features=1176, out_features=10, bias=True)\n",
      ")\n"
     ]
    }
   ],
   "source": [
    "print(model)"
   ]
  },
  {
   "cell_type": "markdown",
   "metadata": {},
   "source": [
    "### Set Loss & Optimizer"
   ]
  },
  {
   "cell_type": "code",
   "execution_count": 27,
   "metadata": {
    "ExecuteTime": {
     "end_time": "2023-09-02T10:06:42.169457Z",
     "start_time": "2023-09-02T10:06:42.165938Z"
    }
   },
   "outputs": [],
   "source": [
    "criterion = nn.CrossEntropyLoss()\n",
    "optimizer = torch.optim.SGD(model.parameters(), lr = 0.001)"
   ]
  },
  {
   "cell_type": "code",
   "execution_count": 28,
   "metadata": {
    "ExecuteTime": {
     "end_time": "2023-09-02T10:06:49.120826Z",
     "start_time": "2023-09-02T10:06:42.172182Z"
    }
   },
   "outputs": [
    {
     "name": "stdout",
     "output_type": "stream",
     "text": [
      "Epoch [1/1], Step [1/782], Loss: 2.4657\n",
      "Epoch [1/1], Step [51/782], Loss: 2.2430\n",
      "Epoch [1/1], Step [101/782], Loss: 2.1570\n",
      "Epoch [1/1], Step [151/782], Loss: 2.0998\n",
      "Epoch [1/1], Step [201/782], Loss: 2.0746\n",
      "Epoch [1/1], Step [251/782], Loss: 2.0618\n",
      "Epoch [1/1], Step [301/782], Loss: 2.0591\n",
      "Epoch [1/1], Step [351/782], Loss: 1.9024\n",
      "Epoch [1/1], Step [401/782], Loss: 2.0664\n",
      "Epoch [1/1], Step [451/782], Loss: 2.1349\n",
      "Epoch [1/1], Step [501/782], Loss: 2.0601\n",
      "Epoch [1/1], Step [551/782], Loss: 1.9691\n",
      "Epoch [1/1], Step [601/782], Loss: 2.0375\n",
      "Epoch [1/1], Step [651/782], Loss: 1.9629\n",
      "Epoch [1/1], Step [701/782], Loss: 1.8042\n",
      "Epoch [1/1], Step [751/782], Loss: 1.8958\n",
      "Epoch [1/1], Step [782/782], Loss: 1.8617\n"
     ]
    }
   ],
   "source": [
    "epochs = 1\n",
    "for epoch in range(epochs):\n",
    "    for i, (images, labels) in enumerate(data_loader):\n",
    "        # Forward Propagate\n",
    "        outputs = model(images)\n",
    "\n",
    "        # Get Loss, Compute Gradients, Update Parameters\n",
    "        loss = criterion(outputs, labels)\n",
    "        optimizer.zero_grad()\n",
    "        loss.backward()\n",
    "        optimizer.step() # optimizer를 기반으로 다시 반복을 하게된다\n",
    "\n",
    "        if i % 50 == 0 or (i+1)==len(data_loader):\n",
    "            print('Epoch [{}/{}], Step [{}/{}], Loss: {:.4f}'.format(epoch+1, epochs, i+1, \n",
    "                                                                     len(data_loader), loss.item()))"
   ]
  },
  {
   "cell_type": "markdown",
   "metadata": {},
   "source": [
    "### Save & Visualization"
   ]
  },
  {
   "cell_type": "code",
   "execution_count": 29,
   "metadata": {
    "ExecuteTime": {
     "end_time": "2023-09-02T10:06:49.124704Z",
     "start_time": "2023-09-02T10:06:49.121099Z"
    }
   },
   "outputs": [],
   "source": [
    "torch.save(model.state_dict(), 'my_model.pth')"
   ]
  },
  {
   "cell_type": "code",
   "execution_count": 30,
   "metadata": {
    "ExecuteTime": {
     "end_time": "2023-09-02T10:06:49.251854Z",
     "start_time": "2023-09-02T10:06:49.125335Z"
    }
   },
   "outputs": [
    {
     "name": "stdout",
     "output_type": "stream",
     "text": [
      "Day1.ipynb   Day2.ipynb   Day3.ipynb   Day4.ipynb   \u001B[34mdatasets\u001B[m\u001B[m     my_model.pth\r\n"
     ]
    }
   ],
   "source": [
    "! ls"
   ]
  },
  {
   "cell_type": "markdown",
   "metadata": {},
   "source": [
    "## 3. XOR Algorithm"
   ]
  },
  {
   "cell_type": "code",
   "execution_count": 31,
   "metadata": {
    "ExecuteTime": {
     "end_time": "2023-09-02T10:06:49.254798Z",
     "start_time": "2023-09-02T10:06:49.253376Z"
    }
   },
   "outputs": [],
   "source": [
    "x = torch.tensor([[0.,0.],[0.,1.], [1.,0.], [1.,1.]])\n",
    "y = torch.tensor([0.,1.,1.,0.]).view(-1,1)"
   ]
  },
  {
   "cell_type": "code",
   "execution_count": 32,
   "metadata": {
    "ExecuteTime": {
     "end_time": "2023-09-02T10:06:49.258468Z",
     "start_time": "2023-09-02T10:06:49.255707Z"
    }
   },
   "outputs": [
    {
     "data": {
      "text/plain": "tensor([[0.],\n        [1.],\n        [1.],\n        [0.]])"
     },
     "execution_count": 32,
     "metadata": {},
     "output_type": "execute_result"
    }
   ],
   "source": [
    "y"
   ]
  },
  {
   "cell_type": "code",
   "execution_count": 33,
   "metadata": {
    "ExecuteTime": {
     "end_time": "2023-09-02T10:06:49.261574Z",
     "start_time": "2023-09-02T10:06:49.259187Z"
    }
   },
   "outputs": [
    {
     "data": {
      "text/plain": "tensor([[0., 0.],\n        [0., 1.],\n        [1., 0.],\n        [1., 1.]])"
     },
     "execution_count": 33,
     "metadata": {},
     "output_type": "execute_result"
    }
   ],
   "source": [
    "x"
   ]
  },
  {
   "cell_type": "code",
   "execution_count": 34,
   "metadata": {
    "ExecuteTime": {
     "end_time": "2023-09-02T10:06:49.264528Z",
     "start_time": "2023-09-02T10:06:49.263102Z"
    }
   },
   "outputs": [],
   "source": [
    "class XOR_net(nn.Module):\n",
    "    def __init__(self):\n",
    "        super(XOR_net, self).__init__()\n",
    "        self.layer1 = nn.Sequential(\n",
    "            nn.Linear(2,1),\n",
    "            nn.Tanh()\n",
    "        )\n",
    "        self.layer2 = nn.Sequential(\n",
    "            nn.Linear(2,3),\n",
    "            nn.Tanh(),\n",
    "            nn.Linear(3,1),\n",
    "            nn.Tanh()\n",
    "        )\n",
    "\n",
    "    def forward(self, input, num_layer):\n",
    "        if num_layer == 1 : out = self.layer1(input)\n",
    "        elif num_layer == 2 : out = self.layer2(input)\n",
    "        else : print(\"out of range\") ; raise\n",
    "        return out"
   ]
  },
  {
   "cell_type": "code",
   "execution_count": 35,
   "metadata": {
    "ExecuteTime": {
     "end_time": "2023-09-02T10:06:49.267740Z",
     "start_time": "2023-09-02T10:06:49.265164Z"
    }
   },
   "outputs": [],
   "source": [
    "net = XOR_net()"
   ]
  },
  {
   "cell_type": "code",
   "execution_count": 36,
   "metadata": {
    "ExecuteTime": {
     "end_time": "2023-09-02T10:06:49.270143Z",
     "start_time": "2023-09-02T10:06:49.268538Z"
    }
   },
   "outputs": [
    {
     "name": "stdout",
     "output_type": "stream",
     "text": [
      "XOR_net(\n",
      "  (layer1): Sequential(\n",
      "    (0): Linear(in_features=2, out_features=1, bias=True)\n",
      "    (1): Tanh()\n",
      "  )\n",
      "  (layer2): Sequential(\n",
      "    (0): Linear(in_features=2, out_features=3, bias=True)\n",
      "    (1): Tanh()\n",
      "    (2): Linear(in_features=3, out_features=1, bias=True)\n",
      "    (3): Tanh()\n",
      "  )\n",
      ")\n"
     ]
    }
   ],
   "source": [
    "print(net)"
   ]
  },
  {
   "cell_type": "markdown",
   "metadata": {},
   "source": [
    "learning rate, loss function을 전부 편하게 지정할 수 있다."
   ]
  },
  {
   "cell_type": "code",
   "execution_count": 37,
   "metadata": {
    "ExecuteTime": {
     "end_time": "2023-09-02T10:06:49.281873Z",
     "start_time": "2023-09-02T10:06:49.271354Z"
    }
   },
   "outputs": [],
   "source": [
    "learning_rate = 0.05\n",
    "epochs = 10000\n",
    "criterion = nn.MSELoss()\n",
    "optimizer = torch.optim.SGD(net.parameters(), lr = learning_rate)\n",
    "\n",
    "error1, error2 = [], []"
   ]
  },
  {
   "cell_type": "code",
   "execution_count": 38,
   "metadata": {
    "ExecuteTime": {
     "end_time": "2023-09-02T10:06:54.221129Z",
     "start_time": "2023-09-02T10:06:49.274140Z"
    }
   },
   "outputs": [
    {
     "name": "stdout",
     "output_type": "stream",
     "text": [
      "Epoch [1/10000] Loss1: 0.1889 Loss2: 0.1327\n",
      "Epoch [501/10000] Loss1: 0.3282 Loss2: 0.0009\n",
      "Epoch [1001/10000] Loss1: 0.3042 Loss2: 0.0000\n",
      "Epoch [1501/10000] Loss1: 0.3017 Loss2: 0.0000\n",
      "Epoch [2001/10000] Loss1: 0.3015 Loss2: 0.0000\n",
      "Epoch [2501/10000] Loss1: 0.3014 Loss2: 0.0000\n",
      "Epoch [3001/10000] Loss1: 0.3014 Loss2: 0.0000\n",
      "Epoch [3501/10000] Loss1: 0.3014 Loss2: 0.0000\n",
      "Epoch [4001/10000] Loss1: 0.3014 Loss2: 0.0000\n",
      "Epoch [4501/10000] Loss1: 0.3014 Loss2: 0.0000\n",
      "Epoch [5001/10000] Loss1: 0.3014 Loss2: 0.0000\n",
      "Epoch [5501/10000] Loss1: 0.3014 Loss2: 0.0000\n",
      "Epoch [6001/10000] Loss1: 0.3014 Loss2: 0.0000\n",
      "Epoch [6501/10000] Loss1: 0.3014 Loss2: 0.0000\n",
      "Epoch [7001/10000] Loss1: 0.3014 Loss2: 0.0000\n",
      "Epoch [7501/10000] Loss1: 0.3014 Loss2: 0.0000\n",
      "Epoch [8001/10000] Loss1: 0.3014 Loss2: 0.0000\n",
      "Epoch [8501/10000] Loss1: 0.3014 Loss2: 0.0000\n",
      "Epoch [9001/10000] Loss1: 0.3014 Loss2: 0.0000\n",
      "Epoch [9501/10000] Loss1: 0.3014 Loss2: 0.0000\n",
      "Epoch [10000/10000] Loss1: 0.3014 Loss2: 0.0000\n"
     ]
    }
   ],
   "source": [
    "for epoch in range(epochs):\n",
    "    for i, (input, ans) in enumerate(zip(x,y)):\n",
    "        output1 = net(input,1)\n",
    "        output2 = net(input,2)\n",
    "\n",
    "        loss1 = criterion(output1, ans)\n",
    "        loss2 = criterion(output2, ans)\n",
    "\n",
    "        optimizer.zero_grad()\n",
    "        loss1.backward()\n",
    "        loss2.backward()\n",
    "        optimizer.step()\n",
    "\n",
    "        error1.append(loss1.detach().numpy())\n",
    "        error2.append(loss2.detach().numpy())\n",
    "\n",
    "    if epoch % 500 == 0 or (epoch+1)==epochs:\n",
    "        print('Epoch [{}/{}] Loss1: {:.4f} Loss2: {:.4f}'.format(epoch+1, epochs, loss1, loss2))"
   ]
  },
  {
   "cell_type": "code",
   "execution_count": 39,
   "metadata": {
    "ExecuteTime": {
     "end_time": "2023-09-02T10:06:54.225595Z",
     "start_time": "2023-09-02T10:06:54.221797Z"
    }
   },
   "outputs": [
    {
     "name": "stdout",
     "output_type": "stream",
     "text": [
      "input:  tensor([0., 0.]) layer1:  tensor([0.5490]) \tlayer2:  tensor([8.3923e-05]) \tanswer: tensor([0.])\n",
      "input:  tensor([0., 1.]) layer1:  tensor([0.5217]) \tlayer2:  tensor([0.9931]) \tanswer: tensor([1.])\n",
      "input:  tensor([1., 0.]) layer1:  tensor([0.4932]) \tlayer2:  tensor([0.9898]) \tanswer: tensor([1.])\n",
      "input:  tensor([1., 1.]) layer1:  tensor([0.4636]) \tlayer2:  tensor([4.7684e-05]) \tanswer: tensor([0.])\n"
     ]
    }
   ],
   "source": [
    "# Test after train (Tanh, MSELoss)\n",
    "for input, target in zip (x, y):\n",
    "    output1 = net(input,1)\n",
    "    output2 = net(input,2)\n",
    "    print(\"input: \",input, \"layer1: \", output1.data, \"\\tlayer2: \", output2.data, \"\\tanswer:\", target)"
   ]
  },
  {
   "cell_type": "code",
   "execution_count": 40,
   "metadata": {
    "ExecuteTime": {
     "end_time": "2023-09-02T10:06:54.366206Z",
     "start_time": "2023-09-02T10:06:54.228613Z"
    }
   },
   "outputs": [
    {
     "data": {
      "text/plain": "<Figure size 1000x400 with 1 Axes>",
      "image/png": "[encoded data removed]"
     },
     "metadata": {},
     "output_type": "display_data"
    }
   ],
   "source": [
    "import seaborn as sns\n",
    "plt.figure(figsize = (10,4))\n",
    "plt.plot(error1)\n",
    "plt.title(\"Layer1 error\", fontsize = 20)\n",
    "plt.ylabel('Loss', fontsize = 15)\n",
    "plt.xlabel('Step', fontsize = 15)\n",
    "plt.show()"
   ]
  },
  {
   "cell_type": "code",
   "execution_count": 41,
   "metadata": {
    "ExecuteTime": {
     "end_time": "2023-09-02T10:06:54.509241Z",
     "start_time": "2023-09-02T10:06:54.376532Z"
    }
   },
   "outputs": [
    {
     "data": {
      "text/plain": "<Figure size 1000x400 with 1 Axes>",
      "image/png": "[encoded data removed]"
     },
     "metadata": {},
     "output_type": "display_data"
    }
   ],
   "source": [
    "plt.figure(figsize = (10,4))\n",
    "plt.plot(error2)\n",
    "plt.title(\"Layer2 error\", fontsize = 20)\n",
    "plt.ylabel('Loss', fontsize = 15)\n",
    "plt.xlabel('Step', fontsize = 15)\n",
    "plt.show()"
   ]
  },
  {
   "cell_type": "code",
   "execution_count": 42,
   "metadata": {
    "ExecuteTime": {
     "end_time": "2023-09-02T10:06:54.510481Z",
     "start_time": "2023-09-02T10:06:54.507093Z"
    }
   },
   "outputs": [
    {
     "name": "stdout",
     "output_type": "stream",
     "text": [
      "input:  tensor([0., 0.]) layer1:  tensor([0.5490]) \tlayer2:  tensor([8.3923e-05]) \tanswer: tensor([0.])\n",
      "input:  tensor([0., 1.]) layer1:  tensor([0.5217]) \tlayer2:  tensor([0.9931]) \tanswer: tensor([1.])\n",
      "input:  tensor([1., 0.]) layer1:  tensor([0.4932]) \tlayer2:  tensor([0.9898]) \tanswer: tensor([1.])\n",
      "input:  tensor([1., 1.]) layer1:  tensor([0.4636]) \tlayer2:  tensor([4.7684e-05]) \tanswer: tensor([0.])\n"
     ]
    }
   ],
   "source": [
    "# Test after train (sigmoid, BCELoss)\n",
    "for input, target in zip (x, y):\n",
    "    output1 = net(input,1)\n",
    "    output2 = net(input,2)\n",
    "    print(\"input: \",input, \"layer1: \", output1.data, \"\\tlayer2: \", output2.data, \"\\tanswer:\", target)"
   ]
  }
 ],
 "metadata": {
  "kernelspec": {
   "display_name": "Python 3",
   "language": "python",
   "name": "python3"
  },
  "language_info": {
   "codemirror_mode": {
    "name": "ipython",
    "version": 3
   },
   "file_extension": ".py",
   "mimetype": "text/x-python",
   "name": "python",
   "nbconvert_exporter": "python",
   "pygments_lexer": "ipython3",
   "version": "3.8.5"
  }
 },
 "nbformat": 4,
 "nbformat_minor": 4
}

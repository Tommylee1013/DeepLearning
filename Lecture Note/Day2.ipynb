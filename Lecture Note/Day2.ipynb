{
 "cells": [
  {
   "cell_type": "markdown",
   "metadata": {},
   "source": [
    "## CNN (Convolution Neural Network)"
   ]
  },
  {
   "cell_type": "code",
   "execution_count": 1,
   "metadata": {
    "ExecuteTime": {
     "end_time": "2023-09-02T10:28:27.491672Z",
     "start_time": "2023-09-02T10:28:26.916616Z"
    }
   },
   "outputs": [],
   "source": [
    "import numpy as np, pandas as pd, matplotlib.pyplot as plt, seaborn as sns\n",
    "import torch as tc"
   ]
  },
  {
   "cell_type": "markdown",
   "metadata": {},
   "source": [
    "### Example : MNIST Data Set"
   ]
  },
  {
   "cell_type": "markdown",
   "metadata": {},
   "source": [
    "Define Hyper-parameters"
   ]
  },
  {
   "cell_type": "code",
   "execution_count": 2,
   "metadata": {
    "ExecuteTime": {
     "end_time": "2023-09-02T10:28:27.494551Z",
     "start_time": "2023-09-02T10:28:27.492307Z"
    }
   },
   "outputs": [
    {
     "name": "stdout",
     "output_type": "stream",
     "text": [
      "device : mps:0\n"
     ]
    }
   ],
   "source": [
    "device = tc.device('cuda' if tc.cuda.is_available() else 'mps:0')\n",
    "print(f'device : {device}')\n",
    "\n",
    "num_classes = 10 # total 10 classes\n",
    "in_channel = 1 # white/black use 1 channel\n",
    "\n",
    "#Set a hyperparameter\n",
    "batch_size = 10 # 배치사이즈를 높게 잡으면 GPU연산을 소모하기 때문에 16개 이하로 한다\n",
    "max_pool_kernel = 2 # pooling layer\n",
    "learning_rate = 0.0001 # epoch마다 learning rate 바꿀수도 있다\n",
    "num_epochs = 3"
   ]
  },
  {
   "cell_type": "markdown",
   "metadata": {},
   "source": [
    "### Import Data and Module"
   ]
  },
  {
   "cell_type": "code",
   "execution_count": 3,
   "metadata": {
    "ExecuteTime": {
     "end_time": "2023-09-02T10:28:27.564639Z",
     "start_time": "2023-09-02T10:28:27.494837Z"
    }
   },
   "outputs": [],
   "source": [
    "import torchvision\n",
    "import torchvision.transforms as transforms"
   ]
  },
  {
   "cell_type": "code",
   "execution_count": 4,
   "metadata": {
    "ExecuteTime": {
     "end_time": "2023-09-02T10:28:27.593804Z",
     "start_time": "2023-09-02T10:28:27.565203Z"
    }
   },
   "outputs": [],
   "source": [
    "train_data = torchvision.datasets.MNIST(root = './datasets',\n",
    "                                        train = True,\n",
    "                                        transform = transforms.ToTensor(),\n",
    "                                        download = True)\n",
    "test_data = torchvision.datasets.MNIST(root = './datasets',\n",
    "                                       train = False,\n",
    "                                       transform = transforms.ToTensor())"
   ]
  },
  {
   "cell_type": "markdown",
   "metadata": {},
   "source": [
    "### Check Images"
   ]
  },
  {
   "cell_type": "code",
   "execution_count": 5,
   "metadata": {
    "ExecuteTime": {
     "end_time": "2023-09-02T10:28:27.594147Z",
     "start_time": "2023-09-02T10:28:27.587925Z"
    }
   },
   "outputs": [
    {
     "name": "stdout",
     "output_type": "stream",
     "text": [
      "Total train data: 60000\n",
      "Total test data: 10000\n",
      "********************\n",
      "Check data shape\n",
      "Data shape: torch.Size([1, 28, 28])\n",
      "Data label: 7\n"
     ]
    }
   ],
   "source": [
    "print(f\"Total train data: {len(train_data)}\")\n",
    "print(f\"Total test data: {len(test_data)}\")\n",
    "print(\"*\"*20)\n",
    "print(\"Check data shape\")\n",
    "print(\"Data shape:\",test_data[0][0].shape)\n",
    "print(\"Data label:\",test_data[0][1]) # answer가 아닌 label인 이유 : 오류가 있을수도 있기 떄문이다"
   ]
  },
  {
   "cell_type": "code",
   "execution_count": 6,
   "metadata": {
    "ExecuteTime": {
     "end_time": "2023-09-02T10:28:27.594225Z",
     "start_time": "2023-09-02T10:28:27.591240Z"
    }
   },
   "outputs": [
    {
     "name": "stdout",
     "output_type": "stream",
     "text": [
      "torch.Size([1, 28, 28]) 5\n"
     ]
    }
   ],
   "source": [
    "print(train_data[0][0].shape, train_data[0][1])"
   ]
  },
  {
   "cell_type": "markdown",
   "metadata": {},
   "source": [
    "- 데이터는 float형태로 저장되어 있다\n",
    "- 첫번째 index에는 데이터가, 두 번째 index에는 label이 붙어 있다"
   ]
  },
  {
   "cell_type": "code",
   "execution_count": 7,
   "metadata": {
    "ExecuteTime": {
     "end_time": "2023-09-02T10:28:27.678694Z",
     "start_time": "2023-09-02T10:28:27.594738Z"
    }
   },
   "outputs": [
    {
     "data": {
      "text/plain": "<Figure size 640x480 with 1 Axes>",
      "image/png": "[encoded data removed]"
     },
     "metadata": {},
     "output_type": "display_data"
    },
    {
     "name": "stdout",
     "output_type": "stream",
     "text": [
      "data shape: torch.Size([1, 28, 28])\n"
     ]
    }
   ],
   "source": [
    "plt.imshow(test_data[0][0].reshape(28,28), cmap = 'gray')\n",
    "plt.title(test_data[0][1]) # label\n",
    "plt.show()\n",
    "print(\"data shape:\",test_data[0][0].shape)"
   ]
  },
  {
   "cell_type": "code",
   "execution_count": 8,
   "metadata": {
    "ExecuteTime": {
     "end_time": "2023-09-02T10:28:28.141388Z",
     "start_time": "2023-09-02T10:28:27.684223Z"
    }
   },
   "outputs": [
    {
     "data": {
      "text/plain": "<Figure size 640x480 with 10 Axes>",
      "image/png": "[encoded data removed]"
     },
     "metadata": {},
     "output_type": "display_data"
    }
   ],
   "source": [
    "%matplotlib inline\n",
    "for i in range(10):\n",
    "    plt.subplot(1,10,i+1)\n",
    "    plt.imshow(test_data[i][0].reshape(28,28), cmap = 'gray')\n",
    "    plt.title(test_data[i][1])"
   ]
  },
  {
   "cell_type": "markdown",
   "metadata": {},
   "source": [
    "### Define Dataloader"
   ]
  },
  {
   "cell_type": "code",
   "execution_count": 9,
   "metadata": {
    "ExecuteTime": {
     "end_time": "2023-09-02T10:28:28.143893Z",
     "start_time": "2023-09-02T10:28:28.140984Z"
    }
   },
   "outputs": [],
   "source": [
    "import torch\n",
    "train_loader = torch.utils.data.DataLoader(dataset = train_data,\n",
    "                                           batch_size = batch_size,\n",
    "                                           shuffle = True)\n",
    "test_loader = torch.utils.data.DataLoader(dataset = test_data,\n",
    "                                          batch_size = batch_size,\n",
    "                                          shuffle = True)"
   ]
  },
  {
   "cell_type": "markdown",
   "metadata": {},
   "source": [
    "- 전체 데이터가 몇 개인지는 알 수 없고, 불러오는 개념. generator 생각하면 편하다"
   ]
  },
  {
   "cell_type": "markdown",
   "metadata": {},
   "source": [
    "### Define Model"
   ]
  },
  {
   "cell_type": "code",
   "execution_count": 10,
   "metadata": {
    "ExecuteTime": {
     "end_time": "2023-09-02T10:28:28.146439Z",
     "start_time": "2023-09-02T10:28:28.143254Z"
    }
   },
   "outputs": [],
   "source": [
    "import torch.nn as nn\n",
    "import torch.nn.functional as F\n",
    "import torchsummary as summary # optional, to see model's summary"
   ]
  },
  {
   "cell_type": "code",
   "execution_count": 11,
   "metadata": {
    "ExecuteTime": {
     "end_time": "2023-09-02T10:28:28.154125Z",
     "start_time": "2023-09-02T10:28:28.147781Z"
    }
   },
   "outputs": [],
   "source": [
    "class ConvNet(nn.Module) :\n",
    "    def __init__(self, num_classes = 10) : #data를 받아 초깃값 지정\n",
    "        super(ConvNet, self).__init__()\n",
    "        #입력 : (1 * 28 * 28)\n",
    "        self.layer1 = nn.Sequential(\n",
    "            nn.Conv2d(in_channel, 16, 5, stride = 1, padding = 2), # stride를 두 개로 하면 이미지가 너무 확 줄어든다\n",
    "            #(16 * 28 * 28)로 convolution\n",
    "            nn.BatchNorm2d(16), # 0에서 1 사이로 정규화\n",
    "            nn.ReLU(),\n",
    "            nn.MaxPool2d(max_pool_kernel) # (16 * 14 * 14) 사이즈가 된다\n",
    "        )\n",
    "        self.layer2 = nn.Sequential(\n",
    "            nn.Conv2d(16, 32, 5, stride = 1, padding = 2), # (32 * 14 * 14)\n",
    "            nn.BatchNorm2d(32),\n",
    "            nn.ReLU(),\n",
    "            nn.MaxPool2d(max_pool_kernel) # (32 * 7  * 7)\n",
    "        )\n",
    "        \n",
    "        #troch에서 Linear 는 Keras에서의 Danse와 같다\n",
    "        self.fc1 = nn.Linear(32 * 7 * 7, 120) # 두 번째 인자는 아무거나 넣어도 된다. 앞보다 더 커져도 상관없다\n",
    "        self.fc2 = nn.Linear(120, 10) # 대신, 마지막에 분류하고 싶은 수보다 더 큰 수를 넣어야 한다\n",
    "        \n",
    "    def forward(self, x) :\n",
    "        x = self.layer1(x)\n",
    "        x = self.layer2(x)\n",
    "        x = x.reshape(x.size(0), -1) # (1, 32*7*7)로 입력된다. 즉, 1D tensor로 vectorization\n",
    "        x = self.fc1(x)\n",
    "        x = F.relu(x) # 정규화 필요\n",
    "        x = self.fc2(x)\n",
    "        x = F.softmax(x, dim = 1) # 분류에서는 softmax를 사용한다.\n",
    "        # CrossEntropy를 사용할 때라면, softmax를 사용하면 안 된다.\n",
    "        \n",
    "        return x"
   ]
  },
  {
   "cell_type": "code",
   "execution_count": 12,
   "metadata": {
    "ExecuteTime": {
     "end_time": "2023-09-02T10:28:28.177881Z",
     "start_time": "2023-09-02T10:28:28.149988Z"
    }
   },
   "outputs": [],
   "source": [
    "model = ConvNet(num_classes).to(device)"
   ]
  },
  {
   "cell_type": "code",
   "execution_count": 13,
   "outputs": [],
   "source": [
    "criterion = nn.CrossEntropyLoss()\n",
    "optimizer = torch.optim.Adam(model.parameters(), lr = learning_rate)"
   ],
   "metadata": {
    "collapsed": false,
    "ExecuteTime": {
     "end_time": "2023-09-02T10:28:28.178077Z",
     "start_time": "2023-09-02T10:28:28.174953Z"
    }
   }
  },
  {
   "cell_type": "code",
   "execution_count": 14,
   "metadata": {
    "ExecuteTime": {
     "end_time": "2023-09-02T10:31:22.048731Z",
     "start_time": "2023-09-02T10:28:28.179321Z"
    }
   },
   "outputs": [
    {
     "name": "stdout",
     "output_type": "stream",
     "text": [
      "Epoch [1/3], Step [2000/6000], Loss: 1.4964, Accuracy: 100.0%\n",
      "Testing data: [Predicted: tensor([3, 0, 2, 1, 8, 2, 3, 8, 4, 8], device='mps:0') / Real: tensor([3, 0, 2, 1, 8, 2, 3, 8, 4, 8])]\n",
      "Epoch [1/3], Step [4000/6000], Loss: 1.4840, Accuracy: 100.0%\n",
      "Testing data: [Predicted: tensor([0, 8, 2, 0, 6, 4, 8, 4, 4, 6], device='mps:0') / Real: tensor([0, 8, 2, 0, 6, 4, 8, 4, 4, 6])]\n",
      "Epoch [1/3], Step [6000/6000], Loss: 1.5419, Accuracy: 100.0%\n",
      "Testing data: [Predicted: tensor([9, 7, 7, 2, 6, 4, 1, 2, 6, 4], device='mps:0') / Real: tensor([9, 7, 7, 2, 6, 4, 1, 2, 6, 4])]\n",
      "Epoch [2/3], Step [2000/6000], Loss: 1.4699, Accuracy: 100.0%\n",
      "Testing data: [Predicted: tensor([9, 0, 3, 0, 1, 8, 4, 5, 2, 3], device='mps:0') / Real: tensor([9, 0, 3, 0, 1, 8, 4, 5, 2, 3])]\n",
      "Epoch [2/3], Step [4000/6000], Loss: 1.4821, Accuracy: 100.0%\n",
      "Testing data: [Predicted: tensor([0, 2, 9, 0, 1, 1, 3, 5, 3, 9], device='mps:0') / Real: tensor([0, 2, 9, 0, 1, 1, 3, 5, 3, 9])]\n",
      "Epoch [2/3], Step [6000/6000], Loss: 1.4620, Accuracy: 100.0%\n",
      "Testing data: [Predicted: tensor([2, 7, 5, 1, 8, 0, 3, 6, 1, 5], device='mps:0') / Real: tensor([2, 7, 5, 1, 8, 0, 3, 6, 1, 5])]\n",
      "Epoch [3/3], Step [2000/6000], Loss: 1.6172, Accuracy: 100.0%\n",
      "Testing data: [Predicted: tensor([9, 2, 2, 1, 1, 4, 8, 1, 4, 3], device='mps:0') / Real: tensor([9, 2, 2, 1, 1, 4, 8, 1, 4, 3])]\n",
      "Epoch [3/3], Step [4000/6000], Loss: 1.4763, Accuracy: 90.0%\n",
      "Testing data: [Predicted: tensor([6, 9, 6, 7, 0, 3, 0, 7, 9, 3], device='mps:0') / Real: tensor([6, 9, 6, 7, 0, 3, 0, 2, 9, 3])]\n",
      "Epoch [3/3], Step [6000/6000], Loss: 1.4613, Accuracy: 90.0%\n",
      "Testing data: [Predicted: tensor([8, 3, 1, 9, 7, 7, 9, 8, 5, 0], device='mps:0') / Real: tensor([8, 3, 7, 9, 7, 7, 9, 8, 5, 0])]\n"
     ]
    }
   ],
   "source": [
    "total_step = len(train_loader)\n",
    "loss_list = []\n",
    "\n",
    "# Train\n",
    "for epoch in range(num_epochs):\n",
    "    for i, (images, labels) in enumerate(train_loader):\n",
    "        # Assign Tensors to Configured Device\n",
    "        images = images.to(device)\n",
    "        labels = labels.to(device)\n",
    "\n",
    "        # Forward Propagation\n",
    "        outputs = model(images)\n",
    "\n",
    "        # Get Loss, Compute Gradient, Update Parameters\n",
    "        loss = criterion(outputs, labels)\n",
    "        optimizer.zero_grad()\n",
    "        loss.backward()\n",
    "        optimizer.step()\n",
    "\n",
    "        # Append loss to plot graph\n",
    "        loss_list.append(loss.detach().cpu().numpy())\n",
    "\n",
    "        # Print Loss for Tracking Training\n",
    "        if (i+1) % 2000 == 0: # 2000번에 한 번씩 결과를 출력한다\n",
    "            acc = 0\n",
    "            test_image, test_label = next(iter(test_loader))\n",
    "            _, test_predicted = torch.max(model(test_image.to(device)).data, 1) \n",
    "            # torch.max() : 확률이 제일 높은 것을 들고 오게 한다\n",
    "\n",
    "            for (pred, ans) in zip(test_predicted, test_label):\n",
    "                if pred == ans:\n",
    "                    acc += 1 # accuracy : 10개 중 맞는것을 집어넣는다\n",
    "            acc = acc / len(test_predicted)\n",
    "\n",
    "            print('Epoch [{}/{}], Step [{}/{}], Loss: {:.4f}, Accuracy: {:.1f}%'.format(epoch+1,num_epochs, \n",
    "                                                                                        i+1, total_step, \n",
    "                                                                                        loss.item(), acc*100))\n",
    "            print('Testing data: [Predicted: {} / Real: {}]'.format(test_predicted, test_label))\n",
    "\n",
    "    if epoch+1 == num_epochs:\n",
    "        torch.save(model.state_dict(), 'model.pth') # torch.save를 통해서 모델을 저장할 수 있다.\n",
    "        # torch.load('model.pth')\n",
    "    else:\n",
    "        torch.save(model.state_dict(), 'model-{:02d}_epochs.pth'.format(epoch+1))"
   ]
  },
  {
   "cell_type": "code",
   "execution_count": 15,
   "outputs": [
    {
     "ename": "RuntimeError",
     "evalue": "slow_conv2d_forward_mps: input(device='cpu') and weight(device=mps:0')  must be on the same device",
     "output_type": "error",
     "traceback": [
      "\u001B[0;31m---------------------------------------------------------------------------\u001B[0m",
      "\u001B[0;31mRuntimeError\u001B[0m                              Traceback (most recent call last)",
      "Cell \u001B[0;32mIn[15], line 3\u001B[0m\n\u001B[1;32m      1\u001B[0m \u001B[38;5;28;01mfor\u001B[39;00m i, (images, labels) \u001B[38;5;129;01min\u001B[39;00m \u001B[38;5;28menumerate\u001B[39m(train_loader):\n\u001B[1;32m      2\u001B[0m     \u001B[38;5;28;01mif\u001B[39;00m i \u001B[38;5;241m==\u001B[39m \u001B[38;5;241m0\u001B[39m :\n\u001B[0;32m----> 3\u001B[0m         outputs \u001B[38;5;241m=\u001B[39m model(images)\n\u001B[1;32m      4\u001B[0m     \u001B[38;5;28;01melse\u001B[39;00m:\n\u001B[1;32m      5\u001B[0m         \u001B[38;5;28;01mbreak\u001B[39;00m\n",
      "File \u001B[0;32m~/anaconda3/envs/DeepLearning/lib/python3.11/site-packages/torch/nn/modules/module.py:1501\u001B[0m, in \u001B[0;36mModule._call_impl\u001B[0;34m(self, *args, **kwargs)\u001B[0m\n\u001B[1;32m   1496\u001B[0m \u001B[38;5;66;03m# If we don't have any hooks, we want to skip the rest of the logic in\u001B[39;00m\n\u001B[1;32m   1497\u001B[0m \u001B[38;5;66;03m# this function, and just call forward.\u001B[39;00m\n\u001B[1;32m   1498\u001B[0m \u001B[38;5;28;01mif\u001B[39;00m \u001B[38;5;129;01mnot\u001B[39;00m (\u001B[38;5;28mself\u001B[39m\u001B[38;5;241m.\u001B[39m_backward_hooks \u001B[38;5;129;01mor\u001B[39;00m \u001B[38;5;28mself\u001B[39m\u001B[38;5;241m.\u001B[39m_backward_pre_hooks \u001B[38;5;129;01mor\u001B[39;00m \u001B[38;5;28mself\u001B[39m\u001B[38;5;241m.\u001B[39m_forward_hooks \u001B[38;5;129;01mor\u001B[39;00m \u001B[38;5;28mself\u001B[39m\u001B[38;5;241m.\u001B[39m_forward_pre_hooks\n\u001B[1;32m   1499\u001B[0m         \u001B[38;5;129;01mor\u001B[39;00m _global_backward_pre_hooks \u001B[38;5;129;01mor\u001B[39;00m _global_backward_hooks\n\u001B[1;32m   1500\u001B[0m         \u001B[38;5;129;01mor\u001B[39;00m _global_forward_hooks \u001B[38;5;129;01mor\u001B[39;00m _global_forward_pre_hooks):\n\u001B[0;32m-> 1501\u001B[0m     \u001B[38;5;28;01mreturn\u001B[39;00m forward_call(\u001B[38;5;241m*\u001B[39margs, \u001B[38;5;241m*\u001B[39m\u001B[38;5;241m*\u001B[39mkwargs)\n\u001B[1;32m   1502\u001B[0m \u001B[38;5;66;03m# Do not call functions when jit is used\u001B[39;00m\n\u001B[1;32m   1503\u001B[0m full_backward_hooks, non_full_backward_hooks \u001B[38;5;241m=\u001B[39m [], []\n",
      "Cell \u001B[0;32mIn[11], line 24\u001B[0m, in \u001B[0;36mConvNet.forward\u001B[0;34m(self, x)\u001B[0m\n\u001B[1;32m     23\u001B[0m \u001B[38;5;28;01mdef\u001B[39;00m \u001B[38;5;21mforward\u001B[39m(\u001B[38;5;28mself\u001B[39m, x) :\n\u001B[0;32m---> 24\u001B[0m     x \u001B[38;5;241m=\u001B[39m \u001B[38;5;28mself\u001B[39m\u001B[38;5;241m.\u001B[39mlayer1(x)\n\u001B[1;32m     25\u001B[0m     x \u001B[38;5;241m=\u001B[39m \u001B[38;5;28mself\u001B[39m\u001B[38;5;241m.\u001B[39mlayer2(x)\n\u001B[1;32m     26\u001B[0m     x \u001B[38;5;241m=\u001B[39m x\u001B[38;5;241m.\u001B[39mreshape(x\u001B[38;5;241m.\u001B[39msize(\u001B[38;5;241m0\u001B[39m), \u001B[38;5;241m-\u001B[39m\u001B[38;5;241m1\u001B[39m) \u001B[38;5;66;03m# (1, 32*7*7)로 입력된다. 즉, 1D tensor로 vectorization\u001B[39;00m\n",
      "File \u001B[0;32m~/anaconda3/envs/DeepLearning/lib/python3.11/site-packages/torch/nn/modules/module.py:1501\u001B[0m, in \u001B[0;36mModule._call_impl\u001B[0;34m(self, *args, **kwargs)\u001B[0m\n\u001B[1;32m   1496\u001B[0m \u001B[38;5;66;03m# If we don't have any hooks, we want to skip the rest of the logic in\u001B[39;00m\n\u001B[1;32m   1497\u001B[0m \u001B[38;5;66;03m# this function, and just call forward.\u001B[39;00m\n\u001B[1;32m   1498\u001B[0m \u001B[38;5;28;01mif\u001B[39;00m \u001B[38;5;129;01mnot\u001B[39;00m (\u001B[38;5;28mself\u001B[39m\u001B[38;5;241m.\u001B[39m_backward_hooks \u001B[38;5;129;01mor\u001B[39;00m \u001B[38;5;28mself\u001B[39m\u001B[38;5;241m.\u001B[39m_backward_pre_hooks \u001B[38;5;129;01mor\u001B[39;00m \u001B[38;5;28mself\u001B[39m\u001B[38;5;241m.\u001B[39m_forward_hooks \u001B[38;5;129;01mor\u001B[39;00m \u001B[38;5;28mself\u001B[39m\u001B[38;5;241m.\u001B[39m_forward_pre_hooks\n\u001B[1;32m   1499\u001B[0m         \u001B[38;5;129;01mor\u001B[39;00m _global_backward_pre_hooks \u001B[38;5;129;01mor\u001B[39;00m _global_backward_hooks\n\u001B[1;32m   1500\u001B[0m         \u001B[38;5;129;01mor\u001B[39;00m _global_forward_hooks \u001B[38;5;129;01mor\u001B[39;00m _global_forward_pre_hooks):\n\u001B[0;32m-> 1501\u001B[0m     \u001B[38;5;28;01mreturn\u001B[39;00m forward_call(\u001B[38;5;241m*\u001B[39margs, \u001B[38;5;241m*\u001B[39m\u001B[38;5;241m*\u001B[39mkwargs)\n\u001B[1;32m   1502\u001B[0m \u001B[38;5;66;03m# Do not call functions when jit is used\u001B[39;00m\n\u001B[1;32m   1503\u001B[0m full_backward_hooks, non_full_backward_hooks \u001B[38;5;241m=\u001B[39m [], []\n",
      "File \u001B[0;32m~/anaconda3/envs/DeepLearning/lib/python3.11/site-packages/torch/nn/modules/container.py:217\u001B[0m, in \u001B[0;36mSequential.forward\u001B[0;34m(self, input)\u001B[0m\n\u001B[1;32m    215\u001B[0m \u001B[38;5;28;01mdef\u001B[39;00m \u001B[38;5;21mforward\u001B[39m(\u001B[38;5;28mself\u001B[39m, \u001B[38;5;28minput\u001B[39m):\n\u001B[1;32m    216\u001B[0m     \u001B[38;5;28;01mfor\u001B[39;00m module \u001B[38;5;129;01min\u001B[39;00m \u001B[38;5;28mself\u001B[39m:\n\u001B[0;32m--> 217\u001B[0m         \u001B[38;5;28minput\u001B[39m \u001B[38;5;241m=\u001B[39m module(\u001B[38;5;28minput\u001B[39m)\n\u001B[1;32m    218\u001B[0m     \u001B[38;5;28;01mreturn\u001B[39;00m \u001B[38;5;28minput\u001B[39m\n",
      "File \u001B[0;32m~/anaconda3/envs/DeepLearning/lib/python3.11/site-packages/torch/nn/modules/module.py:1501\u001B[0m, in \u001B[0;36mModule._call_impl\u001B[0;34m(self, *args, **kwargs)\u001B[0m\n\u001B[1;32m   1496\u001B[0m \u001B[38;5;66;03m# If we don't have any hooks, we want to skip the rest of the logic in\u001B[39;00m\n\u001B[1;32m   1497\u001B[0m \u001B[38;5;66;03m# this function, and just call forward.\u001B[39;00m\n\u001B[1;32m   1498\u001B[0m \u001B[38;5;28;01mif\u001B[39;00m \u001B[38;5;129;01mnot\u001B[39;00m (\u001B[38;5;28mself\u001B[39m\u001B[38;5;241m.\u001B[39m_backward_hooks \u001B[38;5;129;01mor\u001B[39;00m \u001B[38;5;28mself\u001B[39m\u001B[38;5;241m.\u001B[39m_backward_pre_hooks \u001B[38;5;129;01mor\u001B[39;00m \u001B[38;5;28mself\u001B[39m\u001B[38;5;241m.\u001B[39m_forward_hooks \u001B[38;5;129;01mor\u001B[39;00m \u001B[38;5;28mself\u001B[39m\u001B[38;5;241m.\u001B[39m_forward_pre_hooks\n\u001B[1;32m   1499\u001B[0m         \u001B[38;5;129;01mor\u001B[39;00m _global_backward_pre_hooks \u001B[38;5;129;01mor\u001B[39;00m _global_backward_hooks\n\u001B[1;32m   1500\u001B[0m         \u001B[38;5;129;01mor\u001B[39;00m _global_forward_hooks \u001B[38;5;129;01mor\u001B[39;00m _global_forward_pre_hooks):\n\u001B[0;32m-> 1501\u001B[0m     \u001B[38;5;28;01mreturn\u001B[39;00m forward_call(\u001B[38;5;241m*\u001B[39margs, \u001B[38;5;241m*\u001B[39m\u001B[38;5;241m*\u001B[39mkwargs)\n\u001B[1;32m   1502\u001B[0m \u001B[38;5;66;03m# Do not call functions when jit is used\u001B[39;00m\n\u001B[1;32m   1503\u001B[0m full_backward_hooks, non_full_backward_hooks \u001B[38;5;241m=\u001B[39m [], []\n",
      "File \u001B[0;32m~/anaconda3/envs/DeepLearning/lib/python3.11/site-packages/torch/nn/modules/conv.py:463\u001B[0m, in \u001B[0;36mConv2d.forward\u001B[0;34m(self, input)\u001B[0m\n\u001B[1;32m    462\u001B[0m \u001B[38;5;28;01mdef\u001B[39;00m \u001B[38;5;21mforward\u001B[39m(\u001B[38;5;28mself\u001B[39m, \u001B[38;5;28minput\u001B[39m: Tensor) \u001B[38;5;241m-\u001B[39m\u001B[38;5;241m>\u001B[39m Tensor:\n\u001B[0;32m--> 463\u001B[0m     \u001B[38;5;28;01mreturn\u001B[39;00m \u001B[38;5;28mself\u001B[39m\u001B[38;5;241m.\u001B[39m_conv_forward(\u001B[38;5;28minput\u001B[39m, \u001B[38;5;28mself\u001B[39m\u001B[38;5;241m.\u001B[39mweight, \u001B[38;5;28mself\u001B[39m\u001B[38;5;241m.\u001B[39mbias)\n",
      "File \u001B[0;32m~/anaconda3/envs/DeepLearning/lib/python3.11/site-packages/torch/nn/modules/conv.py:459\u001B[0m, in \u001B[0;36mConv2d._conv_forward\u001B[0;34m(self, input, weight, bias)\u001B[0m\n\u001B[1;32m    455\u001B[0m \u001B[38;5;28;01mif\u001B[39;00m \u001B[38;5;28mself\u001B[39m\u001B[38;5;241m.\u001B[39mpadding_mode \u001B[38;5;241m!=\u001B[39m \u001B[38;5;124m'\u001B[39m\u001B[38;5;124mzeros\u001B[39m\u001B[38;5;124m'\u001B[39m:\n\u001B[1;32m    456\u001B[0m     \u001B[38;5;28;01mreturn\u001B[39;00m F\u001B[38;5;241m.\u001B[39mconv2d(F\u001B[38;5;241m.\u001B[39mpad(\u001B[38;5;28minput\u001B[39m, \u001B[38;5;28mself\u001B[39m\u001B[38;5;241m.\u001B[39m_reversed_padding_repeated_twice, mode\u001B[38;5;241m=\u001B[39m\u001B[38;5;28mself\u001B[39m\u001B[38;5;241m.\u001B[39mpadding_mode),\n\u001B[1;32m    457\u001B[0m                     weight, bias, \u001B[38;5;28mself\u001B[39m\u001B[38;5;241m.\u001B[39mstride,\n\u001B[1;32m    458\u001B[0m                     _pair(\u001B[38;5;241m0\u001B[39m), \u001B[38;5;28mself\u001B[39m\u001B[38;5;241m.\u001B[39mdilation, \u001B[38;5;28mself\u001B[39m\u001B[38;5;241m.\u001B[39mgroups)\n\u001B[0;32m--> 459\u001B[0m \u001B[38;5;28;01mreturn\u001B[39;00m F\u001B[38;5;241m.\u001B[39mconv2d(\u001B[38;5;28minput\u001B[39m, weight, bias, \u001B[38;5;28mself\u001B[39m\u001B[38;5;241m.\u001B[39mstride,\n\u001B[1;32m    460\u001B[0m                 \u001B[38;5;28mself\u001B[39m\u001B[38;5;241m.\u001B[39mpadding, \u001B[38;5;28mself\u001B[39m\u001B[38;5;241m.\u001B[39mdilation, \u001B[38;5;28mself\u001B[39m\u001B[38;5;241m.\u001B[39mgroups)\n",
      "\u001B[0;31mRuntimeError\u001B[0m: slow_conv2d_forward_mps: input(device='cpu') and weight(device=mps:0')  must be on the same device"
     ]
    }
   ],
   "source": [
    "#for i, (images, labels) in enumerate(train_loader):\n",
    "    #if i == 0 :\n",
    "        #outputs = model(images)\n",
    "    #else:\n",
    "        #break"
   ],
   "metadata": {
    "collapsed": false,
    "ExecuteTime": {
     "end_time": "2023-09-02T10:31:22.878295Z",
     "start_time": "2023-09-02T10:31:22.048413Z"
    }
   }
  },
  {
   "cell_type": "code",
   "execution_count": 16,
   "outputs": [
    {
     "name": "stdout",
     "output_type": "stream",
     "text": [
      "ConvNet(\n",
      "  (layer1): Sequential(\n",
      "    (0): Conv2d(1, 16, kernel_size=(5, 5), stride=(1, 1), padding=(2, 2))\n",
      "    (1): BatchNorm2d(16, eps=1e-05, momentum=0.1, affine=True, track_running_stats=True)\n",
      "    (2): ReLU()\n",
      "    (3): MaxPool2d(kernel_size=2, stride=2, padding=0, dilation=1, ceil_mode=False)\n",
      "  )\n",
      "  (layer2): Sequential(\n",
      "    (0): Conv2d(16, 32, kernel_size=(5, 5), stride=(1, 1), padding=(2, 2))\n",
      "    (1): BatchNorm2d(32, eps=1e-05, momentum=0.1, affine=True, track_running_stats=True)\n",
      "    (2): ReLU()\n",
      "    (3): MaxPool2d(kernel_size=2, stride=2, padding=0, dilation=1, ceil_mode=False)\n",
      "  )\n",
      "  (fc1): Linear(in_features=1568, out_features=120, bias=True)\n",
      "  (fc2): Linear(in_features=120, out_features=10, bias=True)\n",
      ")\n",
      "============================================================\n",
      "                       model summary                        \n",
      "============================================================\n",
      "layer1.0.weight                  torch.Size([16, 1, 5, 5])   \n",
      "layer1.0.bias                         torch.Size([16])       \n",
      "layer1.1.weight                       torch.Size([16])       \n",
      "layer1.1.bias                         torch.Size([16])       \n",
      "layer1.1.running_mean                 torch.Size([16])       \n",
      "layer1.1.running_var                  torch.Size([16])       \n",
      "layer1.1.num_batches_tracked           torch.Size([])        \n",
      "layer2.0.weight                  torch.Size([32, 16, 5, 5])  \n",
      "layer2.0.bias                         torch.Size([32])       \n",
      "layer2.1.weight                       torch.Size([32])       \n",
      "layer2.1.bias                         torch.Size([32])       \n",
      "layer2.1.running_mean                 torch.Size([32])       \n",
      "layer2.1.running_var                  torch.Size([32])       \n",
      "layer2.1.num_batches_tracked           torch.Size([])        \n",
      "fc1.weight                        torch.Size([120, 1568])    \n",
      "fc1.bias                             torch.Size([120])       \n",
      "fc2.weight                         torch.Size([10, 120])     \n",
      "fc2.bias                              torch.Size([10])       \n",
      "============================================================\n"
     ]
    }
   ],
   "source": [
    "# cf) see network form\n",
    "print(model)\n",
    "\n",
    "# cf) check the number of parameters\n",
    "print('{:=^60}'.format(\"=\"))\n",
    "print('{:^60}'.format(\"model summary\"))\n",
    "print('{:=^60}'.format(\"=\"))\n",
    "for param_tensor in model.state_dict():\n",
    "    print('%-30s'%param_tensor, '{:^30}'.format(str(model.state_dict()[param_tensor].size())))\n",
    "print('{:=^60}'.format(\"=\"))"
   ],
   "metadata": {
    "collapsed": false,
    "ExecuteTime": {
     "end_time": "2023-09-02T10:32:52.465188Z",
     "start_time": "2023-09-02T10:32:52.448725Z"
    }
   }
  },
  {
   "cell_type": "markdown",
   "source": [
    "- Model Parameter 개수 세기 (무조건 시험에 나옴)"
   ],
   "metadata": {
    "collapsed": false
   }
  },
  {
   "cell_type": "code",
   "execution_count": 17,
   "outputs": [],
   "source": [
    "criterion = nn.CrossEntropyLoss()\n",
    "optimizer = torch.optim.Adam(model.parameters(), lr=learning_rate)"
   ],
   "metadata": {
    "collapsed": false,
    "ExecuteTime": {
     "end_time": "2023-09-02T10:32:58.246466Z",
     "start_time": "2023-09-02T10:32:58.237711Z"
    }
   }
  },
  {
   "cell_type": "markdown",
   "source": [
    "### Train / Test"
   ],
   "metadata": {
    "collapsed": false
   }
  },
  {
   "cell_type": "code",
   "execution_count": 18,
   "outputs": [],
   "source": [
    "num_epochs = 3"
   ],
   "metadata": {
    "collapsed": false,
    "ExecuteTime": {
     "end_time": "2023-09-02T10:32:59.729095Z",
     "start_time": "2023-09-02T10:32:59.723185Z"
    }
   }
  },
  {
   "cell_type": "markdown",
   "metadata": {},
   "source": [
    "- torch.save를 통해서, 모델을 저장한다. 차후 과제 제출은 이를 이용하니 유의하도록 한다.\n",
    "- Jupyter Notebook이 아닌 코랩에서는 폴더에 저장된다."
   ]
  },
  {
   "cell_type": "code",
   "execution_count": 19,
   "metadata": {
    "ExecuteTime": {
     "end_time": "2023-09-02T10:33:04.778652Z",
     "start_time": "2023-09-02T10:33:02.337172Z"
    }
   },
   "outputs": [
    {
     "name": "stdout",
     "output_type": "stream",
     "text": [
      "Accuracy of the network on the 10000 test images 98.5%\n"
     ]
    }
   ],
   "source": [
    "# Test after training is done\n",
    "model.eval() # Set model as evaluation mode (instead of mini-batch mean/var, batchnorm is used)\n",
    "with torch.no_grad(): # auto_grad off\n",
    "    correct = 0\n",
    "    total = 0\n",
    "    for images, labels in test_loader:\n",
    "        images = images.to(device)\n",
    "        labels = labels.to(device)\n",
    "        outputs = model(images)\n",
    "        _, predicted = torch.max(outputs.data, 1)\n",
    "\n",
    "        total += labels.size(0)\n",
    "        correct += (predicted == labels).sum().item()\n",
    "\n",
    "    print('Accuracy of the network on the {} test images {}%'.format(len(test_loader)*batch_size, \n",
    "                                                                     100*correct/total))"
   ]
  },
  {
   "cell_type": "markdown",
   "metadata": {},
   "source": [
    "model.train( ) vs. model.eval( )\n",
    "- model.eval( ) : evaluation mode로 만든다.\n",
    "- model.train( ) : "
   ]
  },
  {
   "cell_type": "code",
   "execution_count": 21,
   "metadata": {
    "ExecuteTime": {
     "end_time": "2023-09-02T10:33:30.719259Z",
     "start_time": "2023-09-02T10:33:30.621485Z"
    }
   },
   "outputs": [
    {
     "data": {
      "text/plain": "<Figure size 1000x400 with 1 Axes>",
      "image/png": "[encoded data removed]"
     },
     "metadata": {},
     "output_type": "display_data"
    }
   ],
   "source": [
    "plt.figure(figsize = (10,4))\n",
    "plt.plot(loss_list)\n",
    "plt.title(\"MNIST CNN loss example\", fontsize = 12, fontfamily = 'Serif')\n",
    "plt.ylabel('Loss', fontsize = 10)\n",
    "plt.xlabel('Step', fontsize = 10)\n",
    "plt.show() # cross entropy는 1.42정도가 최솟값이라고 생각하면 된다"
   ]
  }
 ],
 "metadata": {
  "kernelspec": {
   "display_name": "Python 3 (ipykernel)",
   "language": "python",
   "name": "python3"
  },
  "language_info": {
   "codemirror_mode": {
    "name": "ipython",
    "version": 3
   },
   "file_extension": ".py",
   "mimetype": "text/x-python",
   "name": "python",
   "nbconvert_exporter": "python",
   "pygments_lexer": "ipython3",
   "version": "3.9.13"
  },
  "toc": {
   "base_numbering": 1,
   "nav_menu": {},
   "number_sections": true,
   "sideBar": true,
   "skip_h1_title": false,
   "title_cell": "Table of Contents",
   "title_sidebar": "Contents",
   "toc_cell": false,
   "toc_position": {},
   "toc_section_display": true,
   "toc_window_display": false
  }
 },
 "nbformat": 4,
 "nbformat_minor": 4
}

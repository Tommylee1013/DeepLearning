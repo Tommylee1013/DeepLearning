{
  "nbformat": 4,
  "nbformat_minor": 0,
  "metadata": {
    "colab": {
      "provenance": []
    },
    "kernelspec": {
      "name": "python3",
      "display_name": "Python 3"
    },
    "language_info": {
      "name": "python"
    },
    "accelerator": "GPU",
    "gpuClass": "standard"
  },
  "cells": [
    {
      "cell_type": "markdown",
      "source": [
        "## Module Import"
      ],
      "metadata": {
        "id": "7CdJ1ORf1aIg"
      }
    },
    {
      "cell_type": "code",
      "execution_count": 1,
      "metadata": {
        "id": "ZQ1qcf7bFxFT"
      },
      "outputs": [],
      "source": [
        "# import modules\n",
        "import torch\n",
        "import torchvision\n",
        "import torch.nn as nn\n",
        "import torch.nn.functional as F\n",
        "from torch.utils.data import Dataset\n",
        "from torchvision import models, transforms\n",
        "\n",
        "import matplotlib.pyplot as plt\n",
        "import random\n",
        "import time\n",
        "import os\n",
        "\n",
        "import numpy as np"
      ]
    },
    {
      "cell_type": "markdown",
      "source": [
        "### Google Drive Mount"
      ],
      "metadata": {
        "id": "x6Pm0qZv1e_d"
      }
    },
    {
      "cell_type": "code",
      "source": [
        "# mount google drive\n",
        "from google.colab import drive\n",
        "drive.mount('/content/gdrive')"
      ],
      "metadata": {
        "colab": {
          "base_uri": "https://localhost:8080/"
        },
        "id": "gmki3AnTGbki",
        "outputId": "61a076a4-f284-47d9-de98-830a4d0d9471"
      },
      "execution_count": 2,
      "outputs": [
        {
          "output_type": "stream",
          "name": "stdout",
          "text": [
            "Drive already mounted at /content/gdrive; to attempt to forcibly remount, call drive.mount(\"/content/gdrive\", force_remount=True).\n"
          ]
        }
      ]
    },
    {
      "cell_type": "markdown",
      "source": [
        "### Unzip dataset"
      ],
      "metadata": {
        "id": "HsDnFs561jtA"
      }
    },
    {
      "cell_type": "code",
      "source": [
        "# unzip train, valid dataset\n",
        "# target 을 정하지 않으면 google drive 내의 content 드라이브에 위치시킴\n",
        "# 런타임을 다시 시작할 때 마다 unzip 을 새로 해주어야 함.\n",
        "!unzip /content/gdrive/MyDrive/Project_dataset/Font_npy_100_train.zip\n",
        "!unzip /content/gdrive/MyDrive/Project_dataset/Font_npy_100_val.zip\n",
        "# !unzip /content/gdrive/MyDrive/Project_dataset/Font_npy_100_test.zip"
      ],
      "metadata": {
        "colab": {
          "base_uri": "https://localhost:8080/"
        },
        "id": "T5nKP_APGkM0",
        "outputId": "80e049b0-2ca6-4c14-e3a5-2e47dc971724"
      },
      "execution_count": 3,
      "outputs": [
        {
          "output_type": "stream",
          "name": "stdout",
          "text": [
            "Archive:  /content/gdrive/MyDrive/Project_dataset/Font_npy_100_train.zip\n",
            "replace __MACOSX/._Font_npy_100_train? [y]es, [n]o, [A]ll, [N]one, [r]ename: Archive:  /content/gdrive/MyDrive/Project_dataset/Font_npy_100_val.zip\n",
            "replace __MACOSX/._Font_npy_100_val? [y]es, [n]o, [A]ll, [N]one, [r]ename: "
          ]
        }
      ]
    },
    {
      "cell_type": "markdown",
      "source": [
        "### Chack Data and set dataloader (custom)"
      ],
      "metadata": {
        "id": "lCbw5xTO1puZ"
      }
    },
    {
      "cell_type": "code",
      "source": [
        "import glob\n",
        "class MyDataset(Dataset) :\n",
        "    def __init__(self, npy_dir) :\n",
        "        self.dir_path = npy_dir\n",
        "        self.to_tensor = transforms.ToTensor()\n",
        "\n",
        "        self.npy_path = glob.glob(os.path.join(npy_dir, '*', '*.npy'))\n",
        "\n",
        "    def __getitem__(self, index):\n",
        "        # load data\n",
        "        single_data_path = self.npy_path[index]\n",
        "        data = np.load(single_data_path, allow_pickle=True)\n",
        "        \n",
        "        image = data[0]\n",
        "        image = self.to_tensor(image)\n",
        "        label = data[1]\n",
        "       \n",
        "        return (image, label)\n",
        "\n",
        "    def __len__(self):\n",
        "        return len(self.npy_path)\n",
        "\n",
        "train_data = MyDataset(\"/content/Font_npy_100_train\") # unzip 한 디렉토리 있는 path 그대로 넣어야, 디렉토리 옆 점 3개 누르면 '경로 복사' 있음 - 위의 사진 참조\n",
        "valid_data = MyDataset(\"/content/Font_npy_100_val\")\n",
        "#test_data = MyDataset(\"/content/Font_npy_90_test\")\n",
        "\n",
        "print(len(train_data))\n",
        "print(len(valid_data))\n",
        "#print(len(test_data))"
      ],
      "metadata": {
        "id": "XK_AfDo8G3-U",
        "colab": {
          "base_uri": "https://localhost:8080/"
        },
        "outputId": "e9a56844-0139-4d3a-ab73-77a01a8ec097"
      },
      "execution_count": 4,
      "outputs": [
        {
          "output_type": "stream",
          "name": "stdout",
          "text": [
            "37232\n",
            "7800\n"
          ]
        }
      ]
    },
    {
      "cell_type": "code",
      "source": [
        "# define dataloader\n",
        "batch_size = 50\n",
        "train_loader = torch.utils.data.DataLoader(dataset=train_data,\n",
        "                                           batch_size=batch_size,\n",
        "                                           shuffle=True)\n",
        "\n",
        "valid_loader = torch.utils.data.DataLoader(dataset=valid_data,\n",
        "                                           batch_size=batch_size,\n",
        "                                           shuffle=True)\n",
        "\n",
        "# check dataloader\n",
        "image,label = next(iter(valid_loader))\n",
        "print(image.shape)\n",
        "print(label.shape)"
      ],
      "metadata": {
        "id": "dY0df2xyHfck",
        "colab": {
          "base_uri": "https://localhost:8080/"
        },
        "outputId": "03e3b7e4-30f6-486e-b823-5787060440b5"
      },
      "execution_count": 5,
      "outputs": [
        {
          "output_type": "stream",
          "name": "stdout",
          "text": [
            "torch.Size([50, 1, 100, 100])\n",
            "torch.Size([50])\n"
          ]
        }
      ]
    },
    {
      "cell_type": "code",
      "source": [
        "# visualize data\n",
        "# character - encoded_label dict , 데이터 확인해보고 싶을 때 참조\n",
        "label_dict = {'0': 0, '1': 1, '2': 2, '3': 3, '4': 4, '5': 5, '6': 6, '7': 7, '8': 8, '9': 9, \n",
        "'A': 10, 'B': 11, 'C': 12, 'D': 13, 'E': 14, 'F': 15, 'G': 16, 'H': 17,\n",
        "'I': 18, 'J': 19, 'K': 20, 'L': 21, 'M': 22, 'N': 23, 'P': 24, 'Q': 25, \n",
        "'R': 26, 'S': 27, 'T': 28, 'U': 29, 'V': 30, 'W': 31, 'X': 32, 'Y': 33, \n",
        "'Z': 34, 'a': 35, 'b': 36, 'd': 37, 'e': 38, 'f': 39, 'g': 40, 'h': 41, \n",
        "'i': 42, 'j': 43, 'm': 44, 'n': 45, 'o': 46, 'q': 47, 'r': 48, 't': 49, 'u': 50, 'y': 51}\n",
        "\n",
        "# image_show function : num 수 만큼 dataset 내의 data를 보여주는 함수\n",
        "def image_show(dataset, num):\n",
        "  fig = plt.figure(figsize=(10,10))\n",
        "\n",
        "  for i in range(num):\n",
        "    plt.subplot(1, num, i+1)\n",
        "    plt.imshow(dataset[i+1200][0].squeeze(), cmap = \"gray\")\n",
        "    plt.title(dataset[i+1200][1])\n",
        "    ax = plt.gca()\n",
        "    ax.axes.xaxis.set_ticks([])\n",
        "    ax.axes.yaxis.set_ticks([])\n",
        "    plt.gca().spines['left'].set_visible(False)\n",
        "    plt.gca().spines['top'].set_visible(False)\n",
        "    plt.gca().spines['right'].set_visible(False)\n",
        "    plt.gca().spines['bottom'].set_visible(False)\n",
        "\n",
        "image_show(train_data, 8)"
      ],
      "metadata": {
        "id": "RLFv67p0HuOp",
        "colab": {
          "base_uri": "https://localhost:8080/",
          "height": 105
        },
        "outputId": "09311de6-430a-4fa2-ea3d-163ea43f3a55"
      },
      "execution_count": 6,
      "outputs": [
        {
          "output_type": "display_data",
          "data": {
            "text/plain": [
              "<Figure size 720x720 with 8 Axes>"
            ],
            "image/png": "[encoded data removed]"
          },
          "metadata": {}
        }
      ]
    },
    {
      "cell_type": "code",
      "source": [
        "len(label_dict)"
      ],
      "metadata": {
        "id": "Dd4a12OuTtju",
        "colab": {
          "base_uri": "https://localhost:8080/"
        },
        "outputId": "fc3b181a-9f15-4656-f554-2f0f697c4da5"
      },
      "execution_count": 7,
      "outputs": [
        {
          "output_type": "execute_result",
          "data": {
            "text/plain": [
              "52"
            ]
          },
          "metadata": {},
          "execution_count": 7
        }
      ]
    },
    {
      "cell_type": "markdown",
      "source": [
        "## Training environment\n",
        "\n",
        "### check GPU configuration"
      ],
      "metadata": {
        "id": "WvZmFXYv1waz"
      }
    },
    {
      "cell_type": "code",
      "source": [
        "# device configuration\n",
        "device = torch.device('cuda' if torch.cuda.is_available() else 'cpu')\n",
        "!nvidia-smi"
      ],
      "metadata": {
        "id": "v7zqmzhb1COr",
        "colab": {
          "base_uri": "https://localhost:8080/"
        },
        "outputId": "9ee5be6e-00a8-420c-9fb4-15640887b2b9"
      },
      "execution_count": 8,
      "outputs": [
        {
          "output_type": "stream",
          "name": "stdout",
          "text": [
            "Sun Dec 18 10:18:56 2022       \n",
            "+-----------------------------------------------------------------------------+\n",
            "| NVIDIA-SMI 460.32.03    Driver Version: 460.32.03    CUDA Version: 11.2     |\n",
            "|-------------------------------+----------------------+----------------------+\n",
            "| GPU  Name        Persistence-M| Bus-Id        Disp.A | Volatile Uncorr. ECC |\n",
            "| Fan  Temp  Perf  Pwr:Usage/Cap|         Memory-Usage | GPU-Util  Compute M. |\n",
            "|                               |                      |               MIG M. |\n",
            "|===============================+======================+======================|\n",
            "|   0  Tesla T4            Off  | 00000000:00:04.0 Off |                    0 |\n",
            "| N/A   59C    P0    29W /  70W |      3MiB / 15109MiB |      0%      Default |\n",
            "|                               |                      |                  N/A |\n",
            "+-------------------------------+----------------------+----------------------+\n",
            "                                                                               \n",
            "+-----------------------------------------------------------------------------+\n",
            "| Processes:                                                                  |\n",
            "|  GPU   GI   CI        PID   Type   Process name                  GPU Memory |\n",
            "|        ID   ID                                                   Usage      |\n",
            "|=============================================================================|\n",
            "|  No running processes found                                                 |\n",
            "+-----------------------------------------------------------------------------+\n"
          ]
        }
      ]
    },
    {
      "cell_type": "markdown",
      "source": [
        "### Fix Seed"
      ],
      "metadata": {
        "id": "4c1RPTTR19Nj"
      }
    },
    {
      "cell_type": "code",
      "source": [
        "# FIX SEED\n",
        "def fix_seed(seed):\n",
        "    random.seed(seed)\n",
        "    torch.manual_seed(seed)\n",
        "    torch.cuda.manual_seed(seed)\n",
        "\n",
        "fix_seed(42)\n",
        "np.random.seed(42)"
      ],
      "metadata": {
        "id": "cY5lXj1j14Te"
      },
      "execution_count": 62,
      "outputs": []
    },
    {
      "cell_type": "markdown",
      "source": [
        "## Model Tuning"
      ],
      "metadata": {
        "id": "rFXLGsl23qdO"
      }
    },
    {
      "cell_type": "code",
      "source": [
        "input_size = 100\n",
        "num_classes = 52\n",
        "learning_rate = 0.001\n",
        "\n",
        "class CNN(nn.Module) :\n",
        "    def __init__(self, input_size, num_classes) :\n",
        "        super(CNN, self).__init__()\n",
        "        self.layer1 = nn.Sequential(\n",
        "            nn.Conv2d(in_channels = 1,# 16 * 50*50\n",
        "                      out_channels = 16,\n",
        "                      kernel_size = 5,\n",
        "                      stride = 2,\n",
        "                      padding = 2),\n",
        "            nn.BatchNorm2d(num_features = 16),\n",
        "            nn.SiLU()\n",
        "        )\n",
        "        \n",
        "        self.layer2 = nn.Sequential( # 32 * 48*48\n",
        "            nn.Conv2d(in_channels = 16,\n",
        "                      out_channels = 32,\n",
        "                      kernel_size = 5,\n",
        "                      stride = 1, \n",
        "                      padding = 1),\n",
        "            nn.BatchNorm2d(num_features = 32),\n",
        "            nn.SiLU()\n",
        "        )\n",
        "        \n",
        "        self.layer3 = nn.Sequential( # 64*24*24\n",
        "            nn.Conv2d(in_channels = 32,\n",
        "                      out_channels = 64,\n",
        "                      kernel_size = 5,\n",
        "                      stride = 2, \n",
        "                      padding = 2),\n",
        "            nn.BatchNorm2d(num_features = 64),\n",
        "            nn.SiLU()\n",
        "        )\n",
        "\n",
        "        self.layer4 = nn.Sequential( # 128*24*24\n",
        "            nn.Conv2d(in_channels = 64,\n",
        "                      out_channels = 128,\n",
        "                      kernel_size = 5,\n",
        "                      stride = 1, \n",
        "                      padding = 2),\n",
        "            nn.BatchNorm2d(num_features = 128),\n",
        "            nn.SiLU(),\n",
        "            nn.MaxPool2d(kernel_size = 2) # 128*12*12\n",
        "        )\n",
        "\n",
        "        self.layer5 = nn.Sequential( # 256*12*12\n",
        "            nn.Conv2d(in_channels = 128,\n",
        "                      out_channels = 256,\n",
        "                      kernel_size = 3,\n",
        "                      stride = 1, \n",
        "                      padding = 1),\n",
        "            nn.BatchNorm2d(num_features = 256),\n",
        "            nn.SiLU(),\n",
        "            nn.MaxPool2d(kernel_size = 2) # 256*6*6\n",
        "        )\n",
        "\n",
        "        self.layer6 = nn.Sequential( # 256*6*6\n",
        "            nn.Conv2d(in_channels = 256,\n",
        "                      out_channels = 256,\n",
        "                      kernel_size = 3,\n",
        "                      stride = 1, \n",
        "                      padding = 1),\n",
        "            nn.BatchNorm2d(num_features = 256),\n",
        "            nn.SiLU()\n",
        "        )\n",
        "        self.layer7 = nn.Sequential( # 256*6*6\n",
        "            nn.Conv2d(in_channels = 256,\n",
        "                      out_channels = 256,\n",
        "                      kernel_size = 3,\n",
        "                      stride = 1, \n",
        "                      padding = 1),\n",
        "            nn.BatchNorm2d(num_features = 256),\n",
        "            nn.SiLU(),\n",
        "            nn.MaxPool2d(kernel_size = 2) # 256*3*3\n",
        "        )\n",
        "        \n",
        "        self.fc1 = nn.Linear(in_features = 256*3*3, out_features = 256)\n",
        "        self.fc2 = nn.Linear(in_features = 256, out_features = 96)\n",
        "        self.fc3 = nn.Linear(in_features = 96, out_features = num_classes) \n",
        "    \n",
        "    def forward(self, x) :\n",
        "        x = self.layer1(x)\n",
        "        x = self.layer2(x)\n",
        "        x = self.layer3(x)\n",
        "        x = self.layer4(x)\n",
        "        x = self.layer5(x)\n",
        "        x = self.layer6(x)\n",
        "        x = self.layer7(x)\n",
        "        x = F.silu(x)\n",
        "        x = x.reshape(x.size(0), -1)\n",
        "        x = F.silu(self.fc1(x))\n",
        "        x = F.silu(self.fc2(x))\n",
        "        x = self.fc3(x)\n",
        "        #x = F.softmax(x)\n",
        "        return x\n",
        "\n",
        "model = CNN(input_size, num_classes)"
      ],
      "metadata": {
        "id": "IUanwzvzyTvG"
      },
      "execution_count": 69,
      "outputs": []
    },
    {
      "cell_type": "code",
      "source": [
        "criterion = nn.CrossEntropyLoss()\n",
        "optimizer = torch.optim.Adam(model.parameters(), lr=learning_rate)"
      ],
      "metadata": {
        "id": "Gge7C4BuUaOj"
      },
      "execution_count": 70,
      "outputs": []
    },
    {
      "cell_type": "code",
      "source": [
        "\n",
        "import time\n",
        "num_epochs = 20\n",
        "\n",
        "# Train Loop\n",
        "tr_loss = []\n",
        "tr_acc = []\n",
        "\n",
        "from tqdm import tqdm\n",
        "\n",
        "start = time.time()\n",
        "best_valid_loss = torch.inf\n",
        "best_epoch = 0\n",
        "model = model.to(device)\n",
        "epochloop = tqdm(range(num_epochs), position=0, desc='Training', leave=True)\n",
        "for epoch in epochloop:\n",
        "    model.train()\n",
        "    train_loss = 0\n",
        "    train_acc = 0\n",
        "\n",
        "    ## Train\n",
        "    for idx, (image, label) in enumerate(train_loader):\n",
        "        epochloop.set_postfix_str(f'Training batch {idx}/{len(train_loader)}') # visualize\n",
        "        image, label = image.to(device), label.to(device)\n",
        "\n",
        "        out = model(image).squeeze(1)\n",
        "        # acc\n",
        "        _, pred = torch.max(out.data, 1)\n",
        "\n",
        "        train_acc += (pred == label).sum()\n",
        "\n",
        "        # loss\n",
        "        optimizer.zero_grad()\n",
        "        loss = criterion(out.squeeze(), label)\n",
        "        train_loss += loss.item()\n",
        "        loss.backward()\n",
        "        optimizer.step()   \n",
        "\n",
        "    # print epoch loss & accuracy\n",
        "    print(f'Epoch {epoch+1}/{num_epochs} | Train Loss: {train_loss / len(train_loader):.3f} Train Acc: {train_acc / len(train_data) * 100}%')\n",
        "    tr_loss.append(train_loss / len(train_loader))\n",
        "    tr_acc.append(train_acc.cpu().numpy() / len(train_data) * 100)\n",
        "\n",
        "end = time.time()\n",
        "duration = end - start\n",
        "print(\"Training takes {:.2f}minutes\".format(duration/60))"
      ],
      "metadata": {
        "id": "bLRaL7vrUfB7",
        "colab": {
          "base_uri": "https://localhost:8080/"
        },
        "outputId": "82142704-0642-4a6e-c2d9-ee5047597ab6"
      },
      "execution_count": 71,
      "outputs": [
        {
          "output_type": "stream",
          "name": "stderr",
          "text": [
            "Training:   5%|▌         | 1/20 [00:24<07:32, 23.83s/it, Training batch 5/745]"
          ]
        },
        {
          "output_type": "stream",
          "name": "stdout",
          "text": [
            "Epoch 1/20 | Train Loss: 0.482 Train Acc: 87.75515747070312%\n"
          ]
        },
        {
          "output_type": "stream",
          "name": "stderr",
          "text": [
            "Training:  10%|█         | 2/20 [00:47<07:08, 23.78s/it, Training batch 5/745]"
          ]
        },
        {
          "output_type": "stream",
          "name": "stdout",
          "text": [
            "Epoch 2/20 | Train Loss: 0.191 Train Acc: 94.6255874633789%\n"
          ]
        },
        {
          "output_type": "stream",
          "name": "stderr",
          "text": [
            "Training:  15%|█▌        | 3/20 [01:11<06:44, 23.78s/it, Training batch 5/745]"
          ]
        },
        {
          "output_type": "stream",
          "name": "stdout",
          "text": [
            "Epoch 3/20 | Train Loss: 0.137 Train Acc: 95.887939453125%\n"
          ]
        },
        {
          "output_type": "stream",
          "name": "stderr",
          "text": [
            "Training:  20%|██        | 4/20 [01:35<06:21, 23.85s/it, Training batch 5/745]"
          ]
        },
        {
          "output_type": "stream",
          "name": "stdout",
          "text": [
            "Epoch 4/20 | Train Loss: 0.113 Train Acc: 96.33648681640625%\n"
          ]
        },
        {
          "output_type": "stream",
          "name": "stderr",
          "text": [
            "Training:  25%|██▌       | 5/20 [01:59<05:58, 23.93s/it, Training batch 5/745]"
          ]
        },
        {
          "output_type": "stream",
          "name": "stdout",
          "text": [
            "Epoch 5/20 | Train Loss: 0.099 Train Acc: 96.76353454589844%\n"
          ]
        },
        {
          "output_type": "stream",
          "name": "stderr",
          "text": [
            "Training:  30%|███       | 6/20 [02:23<05:33, 23.81s/it, Training batch 5/745]"
          ]
        },
        {
          "output_type": "stream",
          "name": "stdout",
          "text": [
            "Epoch 6/20 | Train Loss: 0.085 Train Acc: 97.13418579101562%\n"
          ]
        },
        {
          "output_type": "stream",
          "name": "stderr",
          "text": [
            "Training:  35%|███▌      | 7/20 [02:46<05:09, 23.80s/it, Training batch 5/745]"
          ]
        },
        {
          "output_type": "stream",
          "name": "stdout",
          "text": [
            "Epoch 7/20 | Train Loss: 0.076 Train Acc: 97.43231201171875%\n"
          ]
        },
        {
          "output_type": "stream",
          "name": "stderr",
          "text": [
            "Training:  40%|████      | 8/20 [03:10<04:44, 23.68s/it, Training batch 5/745]"
          ]
        },
        {
          "output_type": "stream",
          "name": "stdout",
          "text": [
            "Epoch 8/20 | Train Loss: 0.071 Train Acc: 97.48603057861328%\n"
          ]
        },
        {
          "output_type": "stream",
          "name": "stderr",
          "text": [
            "Training:  45%|████▌     | 9/20 [03:34<04:20, 23.68s/it, Training batch 5/745]"
          ]
        },
        {
          "output_type": "stream",
          "name": "stdout",
          "text": [
            "Epoch 9/20 | Train Loss: 0.069 Train Acc: 97.60420989990234%\n"
          ]
        },
        {
          "output_type": "stream",
          "name": "stderr",
          "text": [
            "Training:  50%|█████     | 10/20 [03:57<03:55, 23.59s/it, Training batch 5/745]"
          ]
        },
        {
          "output_type": "stream",
          "name": "stdout",
          "text": [
            "Epoch 10/20 | Train Loss: 0.066 Train Acc: 97.62032318115234%\n"
          ]
        },
        {
          "output_type": "stream",
          "name": "stderr",
          "text": [
            "Training:  55%|█████▌    | 11/20 [04:20<03:31, 23.52s/it, Training batch 5/745]"
          ]
        },
        {
          "output_type": "stream",
          "name": "stdout",
          "text": [
            "Epoch 11/20 | Train Loss: 0.060 Train Acc: 97.7761001586914%\n"
          ]
        },
        {
          "output_type": "stream",
          "name": "stderr",
          "text": [
            "Training:  60%|██████    | 12/20 [04:44<03:07, 23.45s/it, Training batch 5/745]"
          ]
        },
        {
          "output_type": "stream",
          "name": "stdout",
          "text": [
            "Epoch 12/20 | Train Loss: 0.057 Train Acc: 97.82444763183594%\n"
          ]
        },
        {
          "output_type": "stream",
          "name": "stderr",
          "text": [
            "Training:  65%|██████▌   | 13/20 [05:07<02:43, 23.43s/it, Training batch 5/745]"
          ]
        },
        {
          "output_type": "stream",
          "name": "stdout",
          "text": [
            "Epoch 13/20 | Train Loss: 0.055 Train Acc: 97.9560546875%\n"
          ]
        },
        {
          "output_type": "stream",
          "name": "stderr",
          "text": [
            "Training:  70%|███████   | 14/20 [05:30<02:20, 23.43s/it, Training batch 5/745]"
          ]
        },
        {
          "output_type": "stream",
          "name": "stdout",
          "text": [
            "Epoch 14/20 | Train Loss: 0.045 Train Acc: 98.1440658569336%\n"
          ]
        },
        {
          "output_type": "stream",
          "name": "stderr",
          "text": [
            "Training:  75%|███████▌  | 15/20 [05:54<01:57, 23.42s/it, Training batch 5/745]"
          ]
        },
        {
          "output_type": "stream",
          "name": "stdout",
          "text": [
            "Epoch 15/20 | Train Loss: 0.048 Train Acc: 98.10914611816406%\n"
          ]
        },
        {
          "output_type": "stream",
          "name": "stderr",
          "text": [
            "Training:  80%|████████  | 16/20 [06:18<01:34, 23.57s/it, Training batch 5/745]"
          ]
        },
        {
          "output_type": "stream",
          "name": "stdout",
          "text": [
            "Epoch 16/20 | Train Loss: 0.051 Train Acc: 97.99365997314453%\n"
          ]
        },
        {
          "output_type": "stream",
          "name": "stderr",
          "text": [
            "Training:  85%|████████▌ | 17/20 [06:41<01:10, 23.63s/it, Training batch 5/745]"
          ]
        },
        {
          "output_type": "stream",
          "name": "stdout",
          "text": [
            "Epoch 17/20 | Train Loss: 0.044 Train Acc: 98.1655502319336%\n"
          ]
        },
        {
          "output_type": "stream",
          "name": "stderr",
          "text": [
            "Training:  90%|█████████ | 18/20 [07:05<00:47, 23.67s/it, Training batch 5/745]"
          ]
        },
        {
          "output_type": "stream",
          "name": "stdout",
          "text": [
            "Epoch 18/20 | Train Loss: 0.046 Train Acc: 98.1225814819336%\n"
          ]
        },
        {
          "output_type": "stream",
          "name": "stderr",
          "text": [
            "Training:  95%|█████████▌| 19/20 [07:29<00:23, 23.73s/it, Training batch 5/745]"
          ]
        },
        {
          "output_type": "stream",
          "name": "stdout",
          "text": [
            "Epoch 19/20 | Train Loss: 0.046 Train Acc: 98.1413803100586%\n"
          ]
        },
        {
          "output_type": "stream",
          "name": "stderr",
          "text": [
            "Training: 100%|██████████| 20/20 [07:53<00:00, 23.66s/it, Training batch 744/745]"
          ]
        },
        {
          "output_type": "stream",
          "name": "stdout",
          "text": [
            "Epoch 20/20 | Train Loss: 0.042 Train Acc: 98.27030181884766%\n",
            "Training takes 7.89minutes\n"
          ]
        },
        {
          "output_type": "stream",
          "name": "stderr",
          "text": [
            "\n"
          ]
        }
      ]
    },
    {
      "cell_type": "code",
      "source": [
        "import matplotlib.pyplot as plt\n",
        "plt.style.use('seaborn')\n",
        "fig, axs = plt.subplots(1, 2, figsize=(22, 5))\n",
        "fig.subplots_adjust(hspace = .1, wspace=.1)\n",
        "axs = axs.ravel()\n",
        "axs[0].plot(range(num_epochs), tr_loss, label=\"Train Loss\")\n",
        "axs[0].legend()\n",
        "axs[0].set_title(\"Loss - epoch\", fontsize= 15, fontfamily = 'Serif')\n",
        "axs[0].set_xlabel('Epoch', fontsize= 12, fontfamily = 'Serif')\n",
        "axs[0].set_ylabel('Loss', fontsize= 12, fontfamily = 'Serif')\n",
        "axs[1].plot(range(num_epochs), tr_acc, label=\"Train Acc\")\n",
        "axs[1].legend()\n",
        "axs[1].set_title(\"Accuracy - epoch\", fontsize= 15, fontfamily = 'Serif')\n",
        "axs[1].set_xlabel('Epoch', fontsize= 12, fontfamily = 'Serif')\n",
        "axs[1].set_ylabel('Accuracy', fontsize= 12, fontfamily = 'Serif')\n",
        "plt.show()"
      ],
      "metadata": {
        "id": "7fsUQjk5qpH0",
        "colab": {
          "base_uri": "https://localhost:8080/",
          "height": 277
        },
        "outputId": "bc2fcc8c-5cce-4167-b6b3-e6cc48ec63d0"
      },
      "execution_count": 72,
      "outputs": [
        {
          "output_type": "display_data",
          "data": {
            "text/plain": [
              "<Figure size 1584x360 with 2 Axes>"
            ],
            "image/png": "[encoded data removed]"
          },
          "metadata": {}
        }
      ]
    },
    {
      "cell_type": "code",
      "source": [
        "test_model = CNN(input_size, num_classes).to(device)\n",
        "\n",
        "torch.save(model.state_dict(), \"20180594.pth\")\n",
        "\n",
        "test_model.load_state_dict(torch.load('20180594.pth'))\n",
        "acc_list = []\n",
        "test_model.eval()\n",
        "\n",
        "# metrics\n",
        "test_acc = 0\n",
        "with torch.no_grad():\n",
        "    for image, label in valid_loader:\n",
        "        image, label = image.to(device), label.to(device)\n",
        "\n",
        "        # forward pass\n",
        "        out = test_model(image)\n",
        "\n",
        "        # acc\n",
        "        _, pred = torch.max(out, 1)\n",
        "        test_acc += (pred==label).sum()\n",
        "        \n",
        "    print(f'Accuracy: {test_acc.cpu().numpy()/len(valid_data) * 100}%')"
      ],
      "metadata": {
        "id": "CzrmfhmMU6Gn",
        "colab": {
          "base_uri": "https://localhost:8080/"
        },
        "outputId": "e907ccf8-da0a-4f62-b555-537c06e5c1b6"
      },
      "execution_count": 73,
      "outputs": [
        {
          "output_type": "stream",
          "name": "stdout",
          "text": [
            "Accuracy: 96.91025641025641%\n"
          ]
        }
      ]
    }
  ]
}
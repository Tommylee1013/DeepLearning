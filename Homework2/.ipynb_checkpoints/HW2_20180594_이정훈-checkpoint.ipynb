{
 "cells": [
  {
   "cell_type": "code",
   "execution_count": 1,
   "metadata": {},
   "outputs": [],
   "source": [
    "import torch\n",
    "import torchvision\n",
    "import torchvision.transforms as transforms\n",
    "import numpy as np, pandas as pd, matplotlib.pyplot as plt, seaborn as sns\n",
    "import warnings\n",
    "warnings.filterwarnings(\"ignore\")\n",
    "\n",
    "%matplotlib inline"
   ]
  },
  {
   "cell_type": "code",
   "execution_count": 2,
   "metadata": {},
   "outputs": [
    {
     "name": "stdout",
     "output_type": "stream",
     "text": [
      "device: mps:0\n",
      "Files already downloaded and verified\n"
     ]
    }
   ],
   "source": [
    "#device = torch.device('cuda' if torch.cuda.is_available() else 'cpu')\n",
    "device = torch.device('mps:0' if torch.backends.mps.is_available() else 'cpu') #Mac 사용\n",
    "print(f\"device: {device}\")\n",
    "\n",
    "train_data = torchvision.datasets.CIFAR10(root='./datasets',\n",
    "                                        train=True,\n",
    "                                        transform=transforms.ToTensor(),\n",
    "                                        download=True)"
   ]
  },
  {
   "cell_type": "code",
   "execution_count": 3,
   "metadata": {},
   "outputs": [],
   "source": [
    "in_channel = 3\n",
    "max_pool_kernel = 2\n",
    "\n",
    "class ConvNetStep(torch.nn.Module) :\n",
    "    def __init__(self, num_classes = 10) :\n",
    "        super(ConvNetStep, self).__init__()\n",
    "        self.layer1 = torch.nn.Sequential(\n",
    "            torch.nn.Conv2d(in_channels = in_channel,\n",
    "                      out_channels = 12,\n",
    "                      kernel_size = 5,\n",
    "                      stride = 1,\n",
    "                      padding = 2),\n",
    "            torch.nn.BatchNorm2d(num_features = 12),\n",
    "            torch.nn.ReLU(),\n",
    "            torch.nn.MaxPool2d(kernel_size = max_pool_kernel)\n",
    "        )\n",
    "        \n",
    "        self.layer2 = torch.nn.Sequential(\n",
    "            torch.nn.Conv2d(in_channels = 12,\n",
    "                      out_channels = 24,\n",
    "                      kernel_size = 5,\n",
    "                      stride = 1, \n",
    "                      padding = 2),\n",
    "            torch.nn.BatchNorm2d(num_features = 24),\n",
    "            torch.nn.ReLU(),\n",
    "            torch.nn.MaxPool2d(kernel_size = max_pool_kernel)\n",
    "        )\n",
    "        \n",
    "        self.layer3 = torch.nn.Sequential(\n",
    "            torch.nn.Conv2d(in_channels = 24,\n",
    "                      out_channels = 48,\n",
    "                      kernel_size = 5,\n",
    "                      stride = 1, \n",
    "                      padding = 2),\n",
    "            torch.nn.BatchNorm2d(num_features = 48),\n",
    "            torch.nn.ReLU(),\n",
    "            torch.nn.MaxPool2d(kernel_size = max_pool_kernel)\n",
    "        )\n",
    "        \n",
    "        self.fc1 = torch.nn.Linear(in_features = 48*4*4, out_features = 128)\n",
    "        self.fc2 = torch.nn.Linear(in_features = 128, out_features = 32)\n",
    "        self.fc3 = torch.nn.Linear(in_features = 32, out_features = num_classes) #num_classes = 10\n",
    "    \n",
    "    def forward(self, x) :\n",
    "        x = self.layer1(x)\n",
    "        x = self.layer2(x)\n",
    "        x = self.layer3(x)\n",
    "        \n",
    "        x = torch.nn.functional.relu(x)\n",
    "        x = x.reshape(x.size(0), -1)\n",
    "        x = torch.nn.functional.relu(self.fc1(x))\n",
    "        x = torch.nn.functional.relu(self.fc2(x))\n",
    "        x = self.fc3(x)\n",
    "        return x\n",
    "    \n",
    "model = ConvNetStep()"
   ]
  },
  {
   "cell_type": "code",
   "execution_count": 4,
   "metadata": {},
   "outputs": [
    {
     "name": "stdout",
     "output_type": "stream",
     "text": [
      "Files already downloaded and verified\n"
     ]
    }
   ],
   "source": [
    "test_data = torchvision.datasets.CIFAR10(root='./datasets',\n",
    "                                       train=False,\n",
    "                                       transform=transforms.ToTensor(),\n",
    "                                       download=True)"
   ]
  },
  {
   "cell_type": "code",
   "execution_count": 5,
   "metadata": {},
   "outputs": [
    {
     "name": "stdout",
     "output_type": "stream",
     "text": [
      "Epoch [1/7], Step [1/782], Loss: 2.3275\n",
      "Epoch [1/7], Step [101/782], Loss: 1.6716\n",
      "Epoch [1/7], Step [201/782], Loss: 1.7289\n",
      "Epoch [1/7], Step [301/782], Loss: 1.5577\n",
      "Epoch [1/7], Step [401/782], Loss: 1.3614\n",
      "Epoch [1/7], Step [501/782], Loss: 1.2676\n",
      "Epoch [1/7], Step [601/782], Loss: 1.3726\n",
      "Epoch [1/7], Step [701/782], Loss: 1.2753\n",
      "Epoch [1/7], Step [782/782], Loss: 1.9370\n",
      "epoch781 loss: 1.4971070289611816\n",
      "Epoch [2/7], Step [1/782], Loss: 1.2248\n",
      "Epoch [2/7], Step [101/782], Loss: 1.1669\n",
      "Epoch [2/7], Step [201/782], Loss: 1.1487\n",
      "Epoch [2/7], Step [301/782], Loss: 1.2099\n",
      "Epoch [2/7], Step [401/782], Loss: 1.2500\n",
      "Epoch [2/7], Step [501/782], Loss: 0.9911\n",
      "Epoch [2/7], Step [601/782], Loss: 1.0827\n",
      "Epoch [2/7], Step [701/782], Loss: 1.0239\n",
      "Epoch [2/7], Step [782/782], Loss: 1.4137\n",
      "epoch781 loss: 1.1140514612197876\n",
      "Epoch [3/7], Step [1/782], Loss: 1.0407\n",
      "Epoch [3/7], Step [101/782], Loss: 0.9323\n",
      "Epoch [3/7], Step [201/782], Loss: 1.0309\n",
      "Epoch [3/7], Step [301/782], Loss: 1.0421\n",
      "Epoch [3/7], Step [401/782], Loss: 0.9538\n",
      "Epoch [3/7], Step [501/782], Loss: 0.9602\n",
      "Epoch [3/7], Step [601/782], Loss: 0.8867\n",
      "Epoch [3/7], Step [701/782], Loss: 1.0226\n",
      "Epoch [3/7], Step [782/782], Loss: 1.3407\n",
      "epoch781 loss: 0.9396188855171204\n",
      "Epoch [4/7], Step [1/782], Loss: 0.7788\n",
      "Epoch [4/7], Step [101/782], Loss: 0.6727\n",
      "Epoch [4/7], Step [201/782], Loss: 0.6955\n",
      "Epoch [4/7], Step [301/782], Loss: 0.6906\n",
      "Epoch [4/7], Step [401/782], Loss: 0.8439\n",
      "Epoch [4/7], Step [501/782], Loss: 0.7450\n",
      "Epoch [4/7], Step [601/782], Loss: 0.7620\n",
      "Epoch [4/7], Step [701/782], Loss: 0.8832\n",
      "Epoch [4/7], Step [782/782], Loss: 0.9123\n",
      "epoch781 loss: 0.8226351141929626\n",
      "Epoch [5/7], Step [1/782], Loss: 0.8295\n",
      "Epoch [5/7], Step [101/782], Loss: 0.6797\n",
      "Epoch [5/7], Step [201/782], Loss: 0.6386\n",
      "Epoch [5/7], Step [301/782], Loss: 0.8574\n",
      "Epoch [5/7], Step [401/782], Loss: 0.7822\n",
      "Epoch [5/7], Step [501/782], Loss: 1.0100\n",
      "Epoch [5/7], Step [601/782], Loss: 0.6789\n",
      "Epoch [5/7], Step [701/782], Loss: 0.7007\n",
      "Epoch [5/7], Step [782/782], Loss: 0.6774\n",
      "epoch781 loss: 0.7496793866157532\n",
      "Epoch [6/7], Step [1/782], Loss: 0.6958\n",
      "Epoch [6/7], Step [101/782], Loss: 0.5818\n",
      "Epoch [6/7], Step [201/782], Loss: 0.7666\n",
      "Epoch [6/7], Step [301/782], Loss: 0.7658\n",
      "Epoch [6/7], Step [401/782], Loss: 0.7313\n",
      "Epoch [6/7], Step [501/782], Loss: 0.7336\n",
      "Epoch [6/7], Step [601/782], Loss: 0.7855\n",
      "Epoch [6/7], Step [701/782], Loss: 0.6621\n",
      "Epoch [6/7], Step [782/782], Loss: 0.6900\n",
      "epoch781 loss: 0.6858868598937988\n",
      "Epoch [7/7], Step [1/782], Loss: 0.6119\n",
      "Epoch [7/7], Step [101/782], Loss: 0.3854\n",
      "Epoch [7/7], Step [201/782], Loss: 0.6829\n",
      "Epoch [7/7], Step [301/782], Loss: 0.7577\n",
      "Epoch [7/7], Step [401/782], Loss: 0.4607\n",
      "Epoch [7/7], Step [501/782], Loss: 0.5997\n",
      "Epoch [7/7], Step [601/782], Loss: 0.7165\n",
      "Epoch [7/7], Step [701/782], Loss: 0.5840\n",
      "Epoch [7/7], Step [782/782], Loss: 0.6903\n",
      "epoch781 loss: 0.6320900917053223\n"
     ]
    }
   ],
   "source": [
    "batch_size = 64\n",
    "learning_rate = 0.005\n",
    "num_epochs = 7\n",
    "\n",
    "train_loader = torch.utils.data.DataLoader(dataset = train_data,\n",
    "                                          batch_size = batch_size,\n",
    "                                          shuffle = True)\n",
    "test_loader = torch.utils.data.DataLoader(dataset = test_data,\n",
    "                                          batch_size = batch_size,\n",
    "                                          shuffle = False) \n",
    "\n",
    "test_model = ConvNetStep().to(device)\n",
    "criterion = torch.nn.CrossEntropyLoss()\n",
    "optimizer = torch.optim.Adam(test_model.parameters(), lr = learning_rate)\n",
    "\n",
    "total_step = len(train_loader)\n",
    "total_loss = []\n",
    "model.train()\n",
    "for epoch in range(num_epochs):\n",
    "    epoch_loss = []\n",
    "    for i, (img, label) in enumerate(train_loader):\n",
    "        img = img.to(device)\n",
    "        label = label.to(device)\n",
    "\n",
    "        outputs = test_model(img)\n",
    "\n",
    "        loss = criterion(outputs, label)\n",
    "        optimizer.zero_grad()\n",
    "        loss.backward()\n",
    "        optimizer.step()\n",
    "\n",
    "        epoch_loss.append(loss.detach().cpu().numpy()) \n",
    "        if i % 100 == 0 or (i+1) == len(train_loader):\n",
    "            print('Epoch [{}/{}], Step [{}/{}], Loss: {:.4f}'.format(epoch + 1, num_epochs, \n",
    "                                                                     i+1, len(train_loader), loss.item()))\n",
    "    total_loss.append(np.mean(epoch_loss))\n",
    "    print(f\"epoch{i} loss: {np.mean(epoch_loss)}\")"
   ]
  },
  {
   "cell_type": "code",
   "execution_count": 6,
   "metadata": {},
   "outputs": [
    {
     "data": {
      "image/png": "[encoded data removed]",
      "text/plain": [
       "<Figure size 576x360 with 1 Axes>"
      ]
     },
     "metadata": {},
     "output_type": "display_data"
    }
   ],
   "source": [
    "import seaborn as sns\n",
    "sns.set_style(\"dark\")\n",
    "plt.figure(figsize = (8,5))\n",
    "plt.plot(total_loss)\n",
    "plt.title(\"MNIST CNN loss example\", fontweight='bold', fontfamily='Serif')\n",
    "plt.show()"
   ]
  },
  {
   "cell_type": "code",
   "execution_count": 7,
   "metadata": {},
   "outputs": [
    {
     "name": "stdout",
     "output_type": "stream",
     "text": [
      "Accuracy of the network on the 10048 test images: 70.89968152866243%\n"
     ]
    }
   ],
   "source": [
    "with torch.no_grad():\n",
    "    correct = 0\n",
    "  \n",
    "    for img, lab in test_loader :\n",
    "        img = img.to(device)\n",
    "        lab = lab.to(device)\n",
    "        out = test_model(img)\n",
    "        _, pred = torch.max(out.data, 1)\n",
    "        correct += (pred == lab).sum().item()\n",
    "\n",
    "    print(\"Accuracy of the network on the {} test images: {}%\".format(len(test_loader) * batch_size, \n",
    "                                                                      100 * correct / \n",
    "                                                                      (len(test_loader) * \n",
    "                                                                       batch_size)))"
   ]
  },
  {
   "cell_type": "code",
   "execution_count": 9,
   "metadata": {},
   "outputs": [],
   "source": [
    "torch.save(model.state_dict(),\"model.pth\") "
   ]
  }
 ],
 "metadata": {
  "kernelspec": {
   "display_name": "Python 3",
   "language": "python",
   "name": "python3"
  },
  "language_info": {
   "codemirror_mode": {
    "name": "ipython",
    "version": 3
   },
   "file_extension": ".py",
   "mimetype": "text/x-python",
   "name": "python",
   "nbconvert_exporter": "python",
   "pygments_lexer": "ipython3",
   "version": "3.8.5"
  }
 },
 "nbformat": 4,
 "nbformat_minor": 4
}

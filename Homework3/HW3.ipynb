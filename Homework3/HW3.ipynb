{
  "nbformat": 4,
  "nbformat_minor": 0,
  "metadata": {
    "colab": {
      "provenance": []
    },
    "kernelspec": {
      "name": "python3",
      "display_name": "Python 3"
    },
    "language_info": {
      "name": "python"
    },
    "gpuClass": "standard"
  },
  "cells": [
    {
      "cell_type": "code",
      "execution_count": 1,
      "metadata": {
        "id": "VqmqyywVs0JE"
      },
      "outputs": [],
      "source": [
        "from torch.utils.data import Dataset, TensorDataset, DataLoader\n",
        "import torch\n",
        "import torch.nn as nn\n",
        "import torch.nn.functional as F\n",
        "import librosa\n",
        "\n",
        "import numpy as np\n",
        "import pandas as pd\n",
        "\n",
        "from glob import glob"
      ]
    },
    {
      "cell_type": "code",
      "source": [
        "device = torch.device('cuda' if torch.cuda.is_available() else 'cpu')"
      ],
      "metadata": {
        "id": "qA_XBMlatG7I"
      },
      "execution_count": 2,
      "outputs": []
    },
    {
      "cell_type": "code",
      "source": [
        "from google.colab import drive\n",
        "drive.mount('/content/drive')"
      ],
      "metadata": {
        "colab": {
          "base_uri": "https://localhost:8080/"
        },
        "id": "0wPTbSHeBj-Y",
        "outputId": "e0ff1246-6259-4a65-cdda-6d2713277348"
      },
      "execution_count": 3,
      "outputs": [
        {
          "output_type": "stream",
          "name": "stdout",
          "text": [
            "Drive already mounted at /content/drive; to attempt to forcibly remount, call drive.mount(\"/content/drive\", force_remount=True).\n"
          ]
        }
      ]
    },
    {
      "cell_type": "code",
      "source": [
        "! pwd"
      ],
      "metadata": {
        "colab": {
          "base_uri": "https://localhost:8080/"
        },
        "id": "qR5F5n3dnO6Z",
        "outputId": "846f20a8-0545-4d3a-abe4-54dd69d60f5c"
      },
      "execution_count": 4,
      "outputs": [
        {
          "output_type": "stream",
          "name": "stdout",
          "text": [
            "/content\n"
          ]
        }
      ]
    },
    {
      "cell_type": "code",
      "source": [
        "metadata = pd.read_csv(\"./drive/MyDrive/ESC-50-master-16k/meta/esc50.csv\")\n",
        "wav_list = sorted(glob(\"./drive/MyDrive/ESC-50-master-16k/resample/*.wav\"))"
      ],
      "metadata": {
        "id": "CsWwlABdtPsk"
      },
      "execution_count": 5,
      "outputs": []
    },
    {
      "cell_type": "code",
      "source": [
        "metadata.head()"
      ],
      "metadata": {
        "colab": {
          "base_uri": "https://localhost:8080/",
          "height": 204
        },
        "id": "84TqPrCkxtBE",
        "outputId": "25dae78f-a8e6-466d-a3c7-64f7485921e3"
      },
      "execution_count": 6,
      "outputs": [
        {
          "output_type": "execute_result",
          "data": {
            "text/plain": [
              "            filename  fold  target        category  esc10  src_file take\n",
              "0   1-100032-A-0.wav     1       0             dog   True    100032    A\n",
              "1  1-100038-A-14.wav     1      14  chirping_birds  False    100038    A\n",
              "2  1-100210-A-36.wav     1      36  vacuum_cleaner  False    100210    A\n",
              "3  1-100210-B-36.wav     1      36  vacuum_cleaner  False    100210    B\n",
              "4  1-101296-A-19.wav     1      19    thunderstorm  False    101296    A"
            ],
            "text/html": [
              "\n",
              "  <div id=\"df-8d282f73-0d9c-4fa5-bc37-488123166f0c\">\n",
              "    <div class=\"colab-df-container\">\n",
              "      <div>\n",
              "<style scoped>\n",
              "    .dataframe tbody tr th:only-of-type {\n",
              "        vertical-align: middle;\n",
              "    }\n",
              "\n",
              "    .dataframe tbody tr th {\n",
              "        vertical-align: top;\n",
              "    }\n",
              "\n",
              "    .dataframe thead th {\n",
              "        text-align: right;\n",
              "    }\n",
              "</style>\n",
              "<table border=\"1\" class=\"dataframe\">\n",
              "  <thead>\n",
              "    <tr style=\"text-align: right;\">\n",
              "      <th></th>\n",
              "      <th>filename</th>\n",
              "      <th>fold</th>\n",
              "      <th>target</th>\n",
              "      <th>category</th>\n",
              "      <th>esc10</th>\n",
              "      <th>src_file</th>\n",
              "      <th>take</th>\n",
              "    </tr>\n",
              "  </thead>\n",
              "  <tbody>\n",
              "    <tr>\n",
              "      <th>0</th>\n",
              "      <td>1-100032-A-0.wav</td>\n",
              "      <td>1</td>\n",
              "      <td>0</td>\n",
              "      <td>dog</td>\n",
              "      <td>True</td>\n",
              "      <td>100032</td>\n",
              "      <td>A</td>\n",
              "    </tr>\n",
              "    <tr>\n",
              "      <th>1</th>\n",
              "      <td>1-100038-A-14.wav</td>\n",
              "      <td>1</td>\n",
              "      <td>14</td>\n",
              "      <td>chirping_birds</td>\n",
              "      <td>False</td>\n",
              "      <td>100038</td>\n",
              "      <td>A</td>\n",
              "    </tr>\n",
              "    <tr>\n",
              "      <th>2</th>\n",
              "      <td>1-100210-A-36.wav</td>\n",
              "      <td>1</td>\n",
              "      <td>36</td>\n",
              "      <td>vacuum_cleaner</td>\n",
              "      <td>False</td>\n",
              "      <td>100210</td>\n",
              "      <td>A</td>\n",
              "    </tr>\n",
              "    <tr>\n",
              "      <th>3</th>\n",
              "      <td>1-100210-B-36.wav</td>\n",
              "      <td>1</td>\n",
              "      <td>36</td>\n",
              "      <td>vacuum_cleaner</td>\n",
              "      <td>False</td>\n",
              "      <td>100210</td>\n",
              "      <td>B</td>\n",
              "    </tr>\n",
              "    <tr>\n",
              "      <th>4</th>\n",
              "      <td>1-101296-A-19.wav</td>\n",
              "      <td>1</td>\n",
              "      <td>19</td>\n",
              "      <td>thunderstorm</td>\n",
              "      <td>False</td>\n",
              "      <td>101296</td>\n",
              "      <td>A</td>\n",
              "    </tr>\n",
              "  </tbody>\n",
              "</table>\n",
              "</div>\n",
              "      <button class=\"colab-df-convert\" onclick=\"convertToInteractive('df-8d282f73-0d9c-4fa5-bc37-488123166f0c')\"\n",
              "              title=\"Convert this dataframe to an interactive table.\"\n",
              "              style=\"display:none;\">\n",
              "        \n",
              "  <svg xmlns=\"http://www.w3.org/2000/svg\" height=\"24px\"viewBox=\"0 0 24 24\"\n",
              "       width=\"24px\">\n",
              "    <path d=\"M0 0h24v24H0V0z\" fill=\"none\"/>\n",
              "    <path d=\"M18.56 5.44l.94 2.06.94-2.06 2.06-.94-2.06-.94-.94-2.06-.94 2.06-2.06.94zm-11 1L8.5 8.5l.94-2.06 2.06-.94-2.06-.94L8.5 2.5l-.94 2.06-2.06.94zm10 10l.94 2.06.94-2.06 2.06-.94-2.06-.94-.94-2.06-.94 2.06-2.06.94z\"/><path d=\"M17.41 7.96l-1.37-1.37c-.4-.4-.92-.59-1.43-.59-.52 0-1.04.2-1.43.59L10.3 9.45l-7.72 7.72c-.78.78-.78 2.05 0 2.83L4 21.41c.39.39.9.59 1.41.59.51 0 1.02-.2 1.41-.59l7.78-7.78 2.81-2.81c.8-.78.8-2.07 0-2.86zM5.41 20L4 18.59l7.72-7.72 1.47 1.35L5.41 20z\"/>\n",
              "  </svg>\n",
              "      </button>\n",
              "      \n",
              "  <style>\n",
              "    .colab-df-container {\n",
              "      display:flex;\n",
              "      flex-wrap:wrap;\n",
              "      gap: 12px;\n",
              "    }\n",
              "\n",
              "    .colab-df-convert {\n",
              "      background-color: #E8F0FE;\n",
              "      border: none;\n",
              "      border-radius: 50%;\n",
              "      cursor: pointer;\n",
              "      display: none;\n",
              "      fill: #1967D2;\n",
              "      height: 32px;\n",
              "      padding: 0 0 0 0;\n",
              "      width: 32px;\n",
              "    }\n",
              "\n",
              "    .colab-df-convert:hover {\n",
              "      background-color: #E2EBFA;\n",
              "      box-shadow: 0px 1px 2px rgba(60, 64, 67, 0.3), 0px 1px 3px 1px rgba(60, 64, 67, 0.15);\n",
              "      fill: #174EA6;\n",
              "    }\n",
              "\n",
              "    [theme=dark] .colab-df-convert {\n",
              "      background-color: #3B4455;\n",
              "      fill: #D2E3FC;\n",
              "    }\n",
              "\n",
              "    [theme=dark] .colab-df-convert:hover {\n",
              "      background-color: #434B5C;\n",
              "      box-shadow: 0px 1px 3px 1px rgba(0, 0, 0, 0.15);\n",
              "      filter: drop-shadow(0px 1px 2px rgba(0, 0, 0, 0.3));\n",
              "      fill: #FFFFFF;\n",
              "    }\n",
              "  </style>\n",
              "\n",
              "      <script>\n",
              "        const buttonEl =\n",
              "          document.querySelector('#df-8d282f73-0d9c-4fa5-bc37-488123166f0c button.colab-df-convert');\n",
              "        buttonEl.style.display =\n",
              "          google.colab.kernel.accessAllowed ? 'block' : 'none';\n",
              "\n",
              "        async function convertToInteractive(key) {\n",
              "          const element = document.querySelector('#df-8d282f73-0d9c-4fa5-bc37-488123166f0c');\n",
              "          const dataTable =\n",
              "            await google.colab.kernel.invokeFunction('convertToInteractive',\n",
              "                                                     [key], {});\n",
              "          if (!dataTable) return;\n",
              "\n",
              "          const docLinkHtml = 'Like what you see? Visit the ' +\n",
              "            '<a target=\"_blank\" href=https://colab.research.google.com/notebooks/data_table.ipynb>data table notebook</a>'\n",
              "            + ' to learn more about interactive tables.';\n",
              "          element.innerHTML = '';\n",
              "          dataTable['output_type'] = 'display_data';\n",
              "          await google.colab.output.renderOutput(dataTable, element);\n",
              "          const docLink = document.createElement('div');\n",
              "          docLink.innerHTML = docLinkHtml;\n",
              "          element.appendChild(docLink);\n",
              "        }\n",
              "      </script>\n",
              "    </div>\n",
              "  </div>\n",
              "  "
            ]
          },
          "metadata": {},
          "execution_count": 6
        }
      ]
    },
    {
      "cell_type": "code",
      "source": [
        "device = torch.device('cuda' if torch.cuda.is_available() else 'cpu')\n",
        "print(f\"device: {device}\")"
      ],
      "metadata": {
        "id": "NKSx3atvtSmA",
        "colab": {
          "base_uri": "https://localhost:8080/"
        },
        "outputId": "0830b54b-f0ad-456a-ba44-a12535f67817"
      },
      "execution_count": 7,
      "outputs": [
        {
          "output_type": "stream",
          "name": "stdout",
          "text": [
            "device: cpu\n"
          ]
        }
      ]
    },
    {
      "cell_type": "code",
      "source": [
        "def spec_to_image(spec, eps=1e-6):\n",
        "    mean = spec.mean()\n",
        "    std = spec.std()\n",
        "    spec_norm = (spec - mean) / (std + eps)\n",
        "    spec_min, spec_max = spec_norm.min(), spec_norm.max()\n",
        "    spec_scaled = 255 * (spec_norm - spec_min) / (spec_max - spec_min)\n",
        "    spec_scaled = spec_scaled.astype(np.uint8)\n",
        "    return spec_scaled"
      ],
      "metadata": {
        "id": "R7OLYhv2nes8"
      },
      "execution_count": 8,
      "outputs": []
    },
    {
      "cell_type": "code",
      "source": [
        "class esc50dataset(Dataset):\n",
        "    def __init__(self, wavlist, metadata):\n",
        "        self.labels = np.array(metadata.target).astype(int)\n",
        "        self.audio = []\n",
        "        for f in wavlist:\n",
        "            wav, sr = librosa.load(f, sr=None)\n",
        "            spec=librosa.feature.melspectrogram(wav, sr=sr, n_fft=1024, hop_length=640, n_mels=126) # [126,126]\n",
        "            spec_db=librosa.power_to_db(spec,top_db=80)\n",
        "            spec_image = np.expand_dims(spec_to_image(spec_db), axis=0)\n",
        "            self.audio.append(spec_image.tolist())\n",
        "        self.audio = np.array(self.audio)\n",
        "    def __len__(self):\n",
        "        return len(self.audio)\n",
        "    def __getitem__(self, idx):\n",
        "        return self.audio[idx], self.labels[idx]"
      ],
      "metadata": {
        "id": "3rzsMTZgoGJB"
      },
      "execution_count": 9,
      "outputs": []
    },
    {
      "cell_type": "code",
      "source": [
        "dataset = esc50dataset(wav_list, metadata)\n",
        "features = dataset[:][0]\n",
        "labels = dataset[:][1]"
      ],
      "metadata": {
        "id": "H5-cgQ7WoHS2"
      },
      "execution_count": 10,
      "outputs": []
    },
    {
      "cell_type": "code",
      "source": [
        "######## train test split ######## Day4 실습 참고\n",
        "## test data는 200개 이상 존재해야하며 train, val data와 중복되서는 안됩니다\n",
        "\n",
        "train_size = 0.7\n",
        "val_size =  0.5\n",
        "\n",
        "# make train set\n",
        "split_id = int(len(features) * train_size) \n",
        "train_x, remain_x = features[:split_id], features[split_id:] \n",
        "train_y, remain_y = labels[:split_id], labels[split_id:]\n",
        "\n",
        "# make val and test set\n",
        "split_val_id = int(len(remain_x) * val_size) \n",
        "val_x, test_x = remain_x[:split_val_id], remain_x[split_val_id:]\n",
        "val_y, test_y = remain_y[:split_val_id], remain_y[split_val_id:]\n",
        "\n",
        "# define batch size # RuntimeError: CUDA out of memory 에러 출력 시 batch_size 낮추고 실행\n",
        "batch_size = 64\n",
        "\n",
        "# create tensor datasets\n",
        "train_set = TensorDataset(torch.from_numpy(train_x), torch.from_numpy(train_y))\n",
        "valid_set = TensorDataset(torch.from_numpy(val_x), torch.from_numpy(val_y))\n",
        "test_set = TensorDataset(torch.from_numpy(test_x), torch.from_numpy(test_y))\n",
        "\n",
        "# create dataloaders\n",
        "train_loader = DataLoader(train_set, shuffle = True, batch_size = batch_size)\n",
        "val_loader = DataLoader(valid_set, shuffle = True, batch_size = batch_size)\n",
        "test_loader = DataLoader(test_set, shuffle = True, batch_size = batch_size)\n"
      ],
      "metadata": {
        "id": "dn1fe9bzoI2W"
      },
      "execution_count": 11,
      "outputs": []
    },
    {
      "cell_type": "code",
      "source": [
        "input_size = 128\n",
        "num_classes = 50\n",
        "learning_rate = 0.001\n",
        "\n",
        "class CRNN(nn.Module):\n",
        "    def __init__(self, input_size, num_classes) :\n",
        "        super(CRNN, self).__init__()\n",
        "        self.layer1 = nn.Sequential(\n",
        "            nn.Conv2d(in_channels = 1,\n",
        "                      out_channels = 8,\n",
        "                      kernel_size = 3,\n",
        "                      stride = 1,\n",
        "                      padding = 2),\n",
        "            nn.BatchNorm2d(num_features = 8),\n",
        "            nn.ReLU(),\n",
        "            nn.MaxPool2d(kernel_size = 2)\n",
        "        )\n",
        "        \n",
        "        self.layer2 = nn.Sequential(\n",
        "            nn.Conv2d(in_channels = 8,\n",
        "                      out_channels = 16,\n",
        "                      kernel_size = 3,\n",
        "                      stride = 1, \n",
        "                      padding = 1),\n",
        "            nn.BatchNorm2d(num_features = 16),\n",
        "            nn.ReLU(),\n",
        "            nn.MaxPool2d(kernel_size = 2)\n",
        "        )\n",
        "        self.layer3 = nn.Sequential(\n",
        "            nn.Conv2d(in_channels = 16,\n",
        "                      out_channels = 32,\n",
        "                      kernel_size = 3,\n",
        "                      stride = 1, \n",
        "                      padding = 1),\n",
        "            nn.BatchNorm2d(num_features = 32),\n",
        "            nn.ReLU(),\n",
        "            nn.MaxPool2d(kernel_size = 2)\n",
        "        )\n",
        "        self.layer4 = nn.Sequential(\n",
        "            nn.Conv2d(in_channels = 32,\n",
        "                      out_channels = 64,\n",
        "                      kernel_size = 3,\n",
        "                      stride = 1, \n",
        "                      padding = 1),\n",
        "            nn.BatchNorm2d(num_features = 64),\n",
        "            nn.ReLU(),\n",
        "            nn.MaxPool2d(kernel_size = 2)\n",
        "        )\n",
        "        self.layer5 = nn.Sequential(\n",
        "            nn.Conv2d(in_channels = 64,\n",
        "                      out_channels = 128,\n",
        "                      kernel_size = 3,\n",
        "                      stride = 1, \n",
        "                      padding = 1),\n",
        "            nn.BatchNorm2d(num_features = 128),\n",
        "            nn.ReLU(),\n",
        "            nn.MaxPool2d(kernel_size = 2)\n",
        "        )\n",
        "        self.layer6 = nn.Sequential(\n",
        "            nn.Conv2d(in_channels = 128,\n",
        "                      out_channels = 256,\n",
        "                      kernel_size = 3,\n",
        "                      stride = 1, \n",
        "                      padding = 1),\n",
        "            nn.BatchNorm2d(num_features = 256),\n",
        "            nn.ReLU(),\n",
        "            nn.MaxPool2d(kernel_size = 2)\n",
        "        )\n",
        "        self.layer7 = nn.Sequential(\n",
        "            nn.Conv2d(in_channels = 256,\n",
        "                      out_channels = 512,\n",
        "                      kernel_size = 3,\n",
        "                      stride = 1, \n",
        "                      padding = 1),\n",
        "            nn.BatchNorm2d(num_features = 512),\n",
        "            nn.ReLU(),\n",
        "            nn.MaxPool2d(kernel_size = 2)\n",
        "        )\n",
        "        self.gru = nn.GRU(input_size, hidden_size = 256 , num_layers = 2 , batch_first = True) \n",
        "        self.fc = nn.Linear(in_features = 256, out_features = num_classes)\n",
        "\n",
        "    def forward(self, x):\n",
        "        x = x.float()\n",
        "        x = self.layer1(x)\n",
        "        x = self.layer2(x)\n",
        "        x = self.layer3(x)\n",
        "        x = self.layer4(x)\n",
        "        x = self.layer5(x)\n",
        "        x = self.layer6(x)\n",
        "        x = self.layer7(x)\n",
        "        x = x.reshape(x.size(0), -1, input_size)\n",
        "        out, _  = self.gru(x) # output: tensor [batch_size, seq_length, hidden_size]\n",
        "        out = self.fc(out[:, -1,:])\n",
        "\n",
        "        return out\n",
        "\n",
        "model = CRNN(input_size, num_classes).to(device)"
      ],
      "metadata": {
        "id": "JJPjF63podrT"
      },
      "execution_count": 12,
      "outputs": []
    },
    {
      "cell_type": "code",
      "source": [
        "criterion = nn.CrossEntropyLoss()\n",
        "optimizer = torch.optim.Adam(model.parameters(), lr=learning_rate)"
      ],
      "metadata": {
        "id": "H0J9wHJGGase"
      },
      "execution_count": 13,
      "outputs": []
    },
    {
      "cell_type": "code",
      "source": [
        "num_epochs = 20\n",
        "sequence_length = 126\n",
        "\n",
        "# Train Loop\n",
        "tr_loss = []\n",
        "tr_acc = []\n",
        "v_loss = []\n",
        "v_acc = []\n",
        "\n",
        "from tqdm import tqdm\n",
        "\n",
        "best_valid_loss = torch.inf\n",
        "best_epoch = 0\n",
        "model = model.to(device)\n",
        "epochloop = tqdm(range(num_epochs), position=0, desc='Training', leave=True)\n",
        "for epoch in epochloop:\n",
        "    model.train()\n",
        "    train_loss = 0\n",
        "    train_acc = 0\n",
        "\n",
        "    ## Train\n",
        "    for idx, (text, label) in enumerate(train_loader):\n",
        "        epochloop.set_postfix_str(f'Training batch {idx}/{len(train_loader)}') # visualize\n",
        "        text, label = text.to(device), label.to(device)\n",
        "\n",
        "        out = model(text).squeeze(1)\n",
        "        # acc\n",
        "        _, pred = torch.max(out.data, 1)\n",
        "\n",
        "        train_acc += (pred == label).sum()\n",
        "\n",
        "        # loss\n",
        "        optimizer.zero_grad()\n",
        "        loss = criterion(out.squeeze(), label)\n",
        "        train_loss += loss.item()\n",
        "        loss.backward()\n",
        "        optimizer.step()   \n",
        "\n",
        "    ## Validation\n",
        "    model.eval()\n",
        "    val_loss = 0\n",
        "    val_acc = 0\n",
        "\n",
        "    with torch.no_grad():\n",
        "        for idx, (text, label) in enumerate(val_loader):\n",
        "            epochloop.set_postfix_str(f'Validation batch {idx}/{len(val_loader)}')\n",
        "            text, label = text.to(device), label.to(device)\n",
        "\n",
        "            # forward pass\n",
        "            out = model(text)\n",
        "            # acc\n",
        "            _, pred = torch.max(out.data, 1)\n",
        "\n",
        "            val_acc += (pred==label).sum()\n",
        "\n",
        "            # loss\n",
        "            loss = criterion(out.squeeze(), label)\n",
        "            val_loss += loss.item()\n",
        "    model.train()\n",
        "    # save model if validation loss decrease\n",
        "    if val_loss / len(valid_set) <= best_valid_loss:\n",
        "          best_valid_loss = val_loss / len(val_loader)\n",
        "          best_epoch = epoch\n",
        "          torch.save(model.state_dict(), \"LSTM_epoch_{}.pth\".format(epoch))\n",
        "\n",
        "    # print epoch loss & accuracy\n",
        "    print(f'Epoch {epoch+1}/{num_epochs} | Train Loss: {train_loss / len(train_loader):.3f} Train Acc: {train_acc / len(train_set) * 100}% | Val Loss: {val_loss / len(val_loader):.3f} Val Acc: {val_acc / len(valid_set) * 100}%')\n",
        "    tr_loss.append(train_loss / len(train_loader))\n",
        "    tr_acc.append(train_acc.cpu().numpy() / len(train_set) * 100)\n",
        "    v_loss.append(val_loss / len(val_loader))\n",
        "    v_acc.append(val_acc.cpu().numpy() / len(valid_set) * 100)"
      ],
      "metadata": {
        "colab": {
          "base_uri": "https://localhost:8080/"
        },
        "id": "75MqsTmCmNFp",
        "outputId": "23afe769-1793-48ad-d9d4-25bc75d88f33"
      },
      "execution_count": 14,
      "outputs": [
        {
          "output_type": "stream",
          "name": "stderr",
          "text": [
            "Training:   5%|▌         | 1/20 [00:16<05:15, 16.62s/it, Training batch 0/22] "
          ]
        },
        {
          "output_type": "stream",
          "name": "stdout",
          "text": [
            "Epoch 1/20 | Train Loss: 3.620 Train Acc: 6.714285850524902% | Val Loss: 3.603 Val Acc: 7.0%\n"
          ]
        },
        {
          "output_type": "stream",
          "name": "stderr",
          "text": [
            "Training:  10%|█         | 2/20 [00:32<04:54, 16.37s/it, Training batch 0/22] "
          ]
        },
        {
          "output_type": "stream",
          "name": "stdout",
          "text": [
            "Epoch 2/20 | Train Loss: 3.052 Train Acc: 14.5% | Val Loss: 3.361 Val Acc: 9.0%\n"
          ]
        },
        {
          "output_type": "stream",
          "name": "stderr",
          "text": [
            "Training:  15%|█▌        | 3/20 [00:49<04:36, 16.29s/it, Training batch 0/22] "
          ]
        },
        {
          "output_type": "stream",
          "name": "stdout",
          "text": [
            "Epoch 3/20 | Train Loss: 2.640 Train Acc: 23.64285659790039% | Val Loss: 3.107 Val Acc: 14.0%\n"
          ]
        },
        {
          "output_type": "stream",
          "name": "stderr",
          "text": [
            "Training:  20%|██        | 4/20 [01:05<04:19, 16.24s/it, Training batch 0/22] "
          ]
        },
        {
          "output_type": "stream",
          "name": "stdout",
          "text": [
            "Epoch 4/20 | Train Loss: 2.282 Train Acc: 31.357141494750977% | Val Loss: 2.762 Val Acc: 18.33333396911621%\n"
          ]
        },
        {
          "output_type": "stream",
          "name": "stderr",
          "text": [
            "Training:  25%|██▌       | 5/20 [01:21<04:03, 16.26s/it, Training batch 0/22] "
          ]
        },
        {
          "output_type": "stream",
          "name": "stdout",
          "text": [
            "Epoch 5/20 | Train Loss: 1.965 Train Acc: 40.71428298950195% | Val Loss: 2.505 Val Acc: 30.33333396911621%\n"
          ]
        },
        {
          "output_type": "stream",
          "name": "stderr",
          "text": [
            "Training:  30%|███       | 6/20 [01:39<03:55, 16.79s/it, Training batch 0/22] "
          ]
        },
        {
          "output_type": "stream",
          "name": "stdout",
          "text": [
            "Epoch 6/20 | Train Loss: 1.738 Train Acc: 47.5% | Val Loss: 2.265 Val Acc: 40.33333206176758%\n"
          ]
        },
        {
          "output_type": "stream",
          "name": "stderr",
          "text": [
            "Training:  35%|███▌      | 7/20 [01:56<03:38, 16.79s/it, Training batch 0/22] "
          ]
        },
        {
          "output_type": "stream",
          "name": "stdout",
          "text": [
            "Epoch 7/20 | Train Loss: 1.535 Train Acc: 52.78571319580078% | Val Loss: 2.363 Val Acc: 36.66666793823242%\n"
          ]
        },
        {
          "output_type": "stream",
          "name": "stderr",
          "text": [
            "Training:  40%|████      | 8/20 [02:12<03:21, 16.80s/it, Training batch 0/22] "
          ]
        },
        {
          "output_type": "stream",
          "name": "stdout",
          "text": [
            "Epoch 8/20 | Train Loss: 1.351 Train Acc: 58.78571319580078% | Val Loss: 2.343 Val Acc: 35.33333206176758%\n"
          ]
        },
        {
          "output_type": "stream",
          "name": "stderr",
          "text": [
            "Training:  45%|████▌     | 9/20 [02:29<03:03, 16.65s/it, Training batch 0/22] "
          ]
        },
        {
          "output_type": "stream",
          "name": "stdout",
          "text": [
            "Epoch 9/20 | Train Loss: 1.233 Train Acc: 61.5% | Val Loss: 2.680 Val Acc: 36.0%\n"
          ]
        },
        {
          "output_type": "stream",
          "name": "stderr",
          "text": [
            "Training:  50%|█████     | 10/20 [02:45<02:46, 16.64s/it, Training batch 0/22] "
          ]
        },
        {
          "output_type": "stream",
          "name": "stdout",
          "text": [
            "Epoch 10/20 | Train Loss: 1.027 Train Acc: 68.78571319580078% | Val Loss: 2.420 Val Acc: 34.0%\n"
          ]
        },
        {
          "output_type": "stream",
          "name": "stderr",
          "text": [
            "Training:  55%|█████▌    | 11/20 [03:02<02:29, 16.57s/it, Training batch 0/22] "
          ]
        },
        {
          "output_type": "stream",
          "name": "stdout",
          "text": [
            "Epoch 11/20 | Train Loss: 0.834 Train Acc: 75.5% | Val Loss: 2.115 Val Acc: 47.666664123535156%\n"
          ]
        },
        {
          "output_type": "stream",
          "name": "stderr",
          "text": [
            "Training:  60%|██████    | 12/20 [03:18<02:12, 16.50s/it, Training batch 0/22] "
          ]
        },
        {
          "output_type": "stream",
          "name": "stdout",
          "text": [
            "Epoch 12/20 | Train Loss: 0.747 Train Acc: 76.85714721679688% | Val Loss: 2.375 Val Acc: 41.666664123535156%\n"
          ]
        },
        {
          "output_type": "stream",
          "name": "stderr",
          "text": [
            "Training:  65%|██████▌   | 13/20 [03:34<01:55, 16.46s/it, Training batch 0/22] "
          ]
        },
        {
          "output_type": "stream",
          "name": "stdout",
          "text": [
            "Epoch 13/20 | Train Loss: 0.636 Train Acc: 81.35714721679688% | Val Loss: 2.145 Val Acc: 46.33333206176758%\n"
          ]
        },
        {
          "output_type": "stream",
          "name": "stderr",
          "text": [
            "Training:  70%|███████   | 14/20 [03:51<01:38, 16.43s/it, Training batch 0/22] "
          ]
        },
        {
          "output_type": "stream",
          "name": "stdout",
          "text": [
            "Epoch 14/20 | Train Loss: 0.614 Train Acc: 80.35713958740234% | Val Loss: 2.861 Val Acc: 35.0%\n"
          ]
        },
        {
          "output_type": "stream",
          "name": "stderr",
          "text": [
            "Training:  75%|███████▌  | 15/20 [04:07<01:21, 16.36s/it, Training batch 0/22] "
          ]
        },
        {
          "output_type": "stream",
          "name": "stdout",
          "text": [
            "Epoch 15/20 | Train Loss: 0.628 Train Acc: 79.35713958740234% | Val Loss: 2.915 Val Acc: 32.666664123535156%\n"
          ]
        },
        {
          "output_type": "stream",
          "name": "stderr",
          "text": [
            "Training:  80%|████████  | 16/20 [04:23<01:05, 16.30s/it, Training batch 0/22] "
          ]
        },
        {
          "output_type": "stream",
          "name": "stdout",
          "text": [
            "Epoch 16/20 | Train Loss: 0.554 Train Acc: 82.35714721679688% | Val Loss: 2.908 Val Acc: 37.0%\n"
          ]
        },
        {
          "output_type": "stream",
          "name": "stderr",
          "text": [
            "Training:  85%|████████▌ | 17/20 [04:39<00:48, 16.26s/it, Training batch 0/22] "
          ]
        },
        {
          "output_type": "stream",
          "name": "stdout",
          "text": [
            "Epoch 17/20 | Train Loss: 0.432 Train Acc: 86.85713958740234% | Val Loss: 2.281 Val Acc: 46.66666793823242%\n"
          ]
        },
        {
          "output_type": "stream",
          "name": "stderr",
          "text": [
            "Training:  90%|█████████ | 18/20 [04:56<00:32, 16.26s/it, Training batch 0/22] "
          ]
        },
        {
          "output_type": "stream",
          "name": "stdout",
          "text": [
            "Epoch 18/20 | Train Loss: 0.404 Train Acc: 87.71428680419922% | Val Loss: 2.261 Val Acc: 47.0%\n"
          ]
        },
        {
          "output_type": "stream",
          "name": "stderr",
          "text": [
            "Training:  95%|█████████▌| 19/20 [05:12<00:16, 16.26s/it, Training batch 0/22] "
          ]
        },
        {
          "output_type": "stream",
          "name": "stdout",
          "text": [
            "Epoch 19/20 | Train Loss: 0.284 Train Acc: 91.42857360839844% | Val Loss: 2.074 Val Acc: 48.66666793823242%\n"
          ]
        },
        {
          "output_type": "stream",
          "name": "stderr",
          "text": [
            "Training: 100%|██████████| 20/20 [05:28<00:00, 16.43s/it, Validation batch 4/5]"
          ]
        },
        {
          "output_type": "stream",
          "name": "stdout",
          "text": [
            "Epoch 20/20 | Train Loss: 0.251 Train Acc: 92.5% | Val Loss: 2.253 Val Acc: 49.333335876464844%\n"
          ]
        },
        {
          "output_type": "stream",
          "name": "stderr",
          "text": [
            "\n"
          ]
        }
      ]
    },
    {
      "cell_type": "code",
      "source": [
        "import matplotlib.pyplot as plt\n",
        "plt.plot(range(num_epochs), tr_loss, label=\"Train Loss\")\n",
        "plt.plot(range(num_epochs), v_loss, label=\"Val Loss\")\n",
        "plt.legend()\n",
        "plt.title(\"Loss - epoch\")\n",
        "plt.show()"
      ],
      "metadata": {
        "colab": {
          "base_uri": "https://localhost:8080/",
          "height": 281
        },
        "id": "ZgqXhvf9eYMg",
        "outputId": "08616610-c150-455e-cef1-ae9704952405"
      },
      "execution_count": 15,
      "outputs": [
        {
          "output_type": "display_data",
          "data": {
            "text/plain": [
              "<Figure size 432x288 with 1 Axes>"
            ],
            "image/png": "[encoded data removed]"
          },
          "metadata": {
            "needs_background": "light"
          }
        }
      ]
    },
    {
      "cell_type": "code",
      "source": [
        "plt.plot(range(num_epochs), tr_acc, label=\"Train Acc\")\n",
        "plt.plot(range(num_epochs), v_acc, label=\"Val Acc\")\n",
        "plt.legend()\n",
        "plt.title(\"Accuracy - epoch\")\n",
        "plt.show()"
      ],
      "metadata": {
        "colab": {
          "base_uri": "https://localhost:8080/",
          "height": 281
        },
        "id": "eRwyaFGGoShl",
        "outputId": "006af587-9199-45ce-f8ba-e742bf071f82"
      },
      "execution_count": 16,
      "outputs": [
        {
          "output_type": "display_data",
          "data": {
            "text/plain": [
              "<Figure size 432x288 with 1 Axes>"
            ],
            "image/png": "[encoded data removed]"
          },
          "metadata": {
            "needs_background": "light"
          }
        }
      ]
    },
    {
      "cell_type": "code",
      "source": [
        "test_model = CRNN(input_size, num_classes).to(device)\n",
        "\n",
        "torch.save(model.state_dict(),\"model.pth\") \n",
        "\n",
        "test_model.load_state_dict(torch.load('model.pth'))\n",
        "acc_list = []\n",
        "test_model.eval()\n",
        "\n",
        "# metrics\n",
        "test_acc = 0\n",
        "with torch.no_grad():\n",
        "    for audio, label in test_loader:\n",
        "        audio, label = audio.to(device), label.to(device)\n",
        "\n",
        "        # forward pass\n",
        "        out = test_model(audio)\n",
        "\n",
        "        # acc\n",
        "        _, pred = torch.max(out, 1)\n",
        "        test_acc += (pred==label).sum()\n",
        "        \n",
        "    print(f'Accuracy: {test_acc.cpu().numpy()/len(test_set) * 100}%')"
      ],
      "metadata": {
        "colab": {
          "base_uri": "https://localhost:8080/"
        },
        "id": "aOTpOXnvZw41",
        "outputId": "923fb604-5cd6-4d44-8134-26e09b884c8b"
      },
      "execution_count": 17,
      "outputs": [
        {
          "output_type": "stream",
          "name": "stdout",
          "text": [
            "Accuracy: 50.33333333333333%\n"
          ]
        }
      ]
    }
  ]
}